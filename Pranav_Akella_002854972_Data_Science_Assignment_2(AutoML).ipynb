{
  "nbformat": 4,
  "nbformat_minor": 0,
  "metadata": {
    "colab": {
      "provenance": []
    },
    "kernelspec": {
      "name": "python3",
      "display_name": "Python 3"
    },
    "language_info": {
      "name": "python"
    }
  },
  "cells": [
    {
      "cell_type": "markdown",
      "source": [
        "Assignment 2: AutoML\n",
        "\n",
        "Pranav Akella\n",
        "\n",
        "002854972"
      ],
      "metadata": {
        "id": "uo7K6ILp0OI_"
      }
    },
    {
      "cell_type": "markdown",
      "source": [
        "#Abstract\n",
        "\n",
        "This notebook is dedicated to the creation of predictive models for determining whether a customer is likely to default on their credit card bill in the upcoming month, along with interpreting the results. The process encompasses essential steps such as installing necessary packages, importing libraries, and configuring memory allocation and runtime settings. Utilizing 50% of available resources optimizes the analysis and prediction phase. Subsequently, the H2O server is initiated on a random port. The dataset is then imported and comprehensively examined. To enhance model accuracy, the irrelevant ID column is removed. The model is trained using H2O's AutoML, with a specific focus on the Gradient Boosting Machine (GBM) Model. A detailed comparison of Root Mean Square Error (RMSE) is conducted, followed by a thorough evaluation of the leaderboard. Additionally, Variable Importance Plots and Partial Dependence Plots are generated to provide further insights into the model's performance and feature significance."
      ],
      "metadata": {
        "id": "taX7sRA7Ej_x"
      }
    },
    {
      "cell_type": "markdown",
      "source": [
        "#About the data set\n",
        "\n",
        "There are 25 variables:\n",
        "\n",
        "ID: ID of each client\n",
        "\n",
        "LIMIT_BAL: Amount of given credit in NT dollars (includes individual and family/supplementary credit\n",
        "\n",
        "SEX: Gender (1=male, 2=female)\n",
        "\n",
        "EDUCATION: (1=graduate school, 2=university, 3=high school, 4=others, 5=unknown, 6=unknown)\n",
        "\n",
        "MARRIAGE: Marital status (1=married, 2=single, 3=others)\n",
        "\n",
        "AGE: Age in years\n",
        "\n",
        "PAY_0: Repayment status in September, 2005 (-1=pay duly, 1=payment delay for one month, 2=payment delay for two months, … 8=payment delay for eight months, 9=payment delay for nine months and above)\n",
        "\n",
        "PAY_2: Repayment status in August, 2005 (scale same as above)\n",
        "\n",
        "PAY_3: Repayment status in July, 2005 (scale same as above)\n",
        "\n",
        "PAY_4: Repayment status in June, 2005 (scale same as above)\n",
        "\n",
        "PAY_5: Repayment status in May, 2005 (scale same as above)\n",
        "\n",
        "PAY_6: Repayment status in April, 2005 (scale same as above)\n",
        "\n",
        "BILL_AMT1: Amount of bill statement in September, 2005 (NT dollar)\n",
        "\n",
        "BILL_AMT2: Amount of bill statement in August, 2005 (NT dollar)\n",
        "\n",
        "BILL_AMT3: Amount of bill statement in July, 2005 (NT dollar)\n",
        "\n",
        "BILL_AMT4: Amount of bill statement in June, 2005 (NT dollar)\n",
        "\n",
        "BILL_AMT5: Amount of bill statement in May, 2005 (NT dollar)\n",
        "\n",
        "BILL_AMT6: Amount of bill statement in April, 2005 (NT dollar)\n",
        "\n",
        "PAY_AMT1: Amount of previous payment in September, 2005 (NT dollar)\n",
        "\n",
        "PAY_AMT2: Amount of previous payment in August, 2005 (NT dollar)\n",
        "\n",
        "PAY_AMT3: Amount of previous payment in July, 2005 (NT dollar)\n",
        "\n",
        "PAY_AMT4: Amount of previous payment in June, 2005 (NT dollar)\n",
        "\n",
        "PAY_AMT5: Amount of previous payment in May, 2005 (NT dollar)\n",
        "\n",
        "PAY_AMT6: Amount of previous payment in April, 2005 (NT dollar)\n",
        "\n",
        "default.payment.next.month: Default payment (1=yes, 0=no)"
      ],
      "metadata": {
        "id": "moprhrvDEvB8"
      }
    },
    {
      "cell_type": "markdown",
      "source": [],
      "metadata": {
        "id": "yoQV2WQEErdG"
      }
    },
    {
      "cell_type": "markdown",
      "source": [
        "#Installing H2O.ai Automl for Python to run this notebook"
      ],
      "metadata": {
        "id": "_DhGJpSeE5qU"
      }
    },
    {
      "cell_type": "markdown",
      "source": [
        "Using pip install for required installation"
      ],
      "metadata": {
        "id": "yDA-fWZUMZ6a"
      }
    },
    {
      "cell_type": "code",
      "execution_count": 1,
      "metadata": {
        "colab": {
          "base_uri": "https://localhost:8080/"
        },
        "id": "iAVFb7OU0Bvo",
        "outputId": "eb390bc2-d16b-4d1a-9174-a9224ec5f6cb"
      },
      "outputs": [
        {
          "output_type": "stream",
          "name": "stdout",
          "text": [
            "Requirement already satisfied: requests in /usr/local/lib/python3.10/dist-packages (2.31.0)\n",
            "Requirement already satisfied: charset-normalizer<4,>=2 in /usr/local/lib/python3.10/dist-packages (from requests) (3.3.2)\n",
            "Requirement already satisfied: idna<4,>=2.5 in /usr/local/lib/python3.10/dist-packages (from requests) (3.6)\n",
            "Requirement already satisfied: urllib3<3,>=1.21.1 in /usr/local/lib/python3.10/dist-packages (from requests) (2.0.7)\n",
            "Requirement already satisfied: certifi>=2017.4.17 in /usr/local/lib/python3.10/dist-packages (from requests) (2024.2.2)\n",
            "Requirement already satisfied: tabulate in /usr/local/lib/python3.10/dist-packages (0.9.0)\n",
            "Collecting colorama>=0.3.8\n",
            "  Downloading colorama-0.4.6-py2.py3-none-any.whl (25 kB)\n",
            "Installing collected packages: colorama\n",
            "Successfully installed colorama-0.4.6\n",
            "Requirement already satisfied: future in /usr/local/lib/python3.10/dist-packages (0.18.3)\n",
            "\u001b[33mWARNING: Skipping h2o as it is not installed.\u001b[0m\u001b[33m\n",
            "\u001b[0mLooking in links: http://h2o-release.s3.amazonaws.com/h2o/latest_stable_Py.html\n",
            "\u001b[33mWARNING: The repository located at h2o-release.s3.amazonaws.com is not a trusted or secure host and is being ignored. If this repository is available via HTTPS we recommend you use HTTPS instead, otherwise you may silence this warning and allow it anyway with '--trusted-host h2o-release.s3.amazonaws.com'.\u001b[0m\u001b[33m\n",
            "\u001b[0mCollecting h2o\n",
            "  Downloading h2o-3.44.0.3.tar.gz (265.2 MB)\n",
            "\u001b[2K     \u001b[90m━━━━━━━━━━━━━━━━━━━━━━━━━━━━━━━━━━━━━━━━\u001b[0m \u001b[32m265.2/265.2 MB\u001b[0m \u001b[31m4.8 MB/s\u001b[0m eta \u001b[36m0:00:00\u001b[0m\n",
            "\u001b[?25h  Preparing metadata (setup.py) ... \u001b[?25l\u001b[?25hdone\n",
            "Requirement already satisfied: requests in /usr/local/lib/python3.10/dist-packages (from h2o) (2.31.0)\n",
            "Requirement already satisfied: tabulate in /usr/local/lib/python3.10/dist-packages (from h2o) (0.9.0)\n",
            "Requirement already satisfied: charset-normalizer<4,>=2 in /usr/local/lib/python3.10/dist-packages (from requests->h2o) (3.3.2)\n",
            "Requirement already satisfied: idna<4,>=2.5 in /usr/local/lib/python3.10/dist-packages (from requests->h2o) (3.6)\n",
            "Requirement already satisfied: urllib3<3,>=1.21.1 in /usr/local/lib/python3.10/dist-packages (from requests->h2o) (2.0.7)\n",
            "Requirement already satisfied: certifi>=2017.4.17 in /usr/local/lib/python3.10/dist-packages (from requests->h2o) (2024.2.2)\n",
            "Building wheels for collected packages: h2o\n",
            "  Building wheel for h2o (setup.py) ... \u001b[?25l\u001b[?25hdone\n",
            "  Created wheel for h2o: filename=h2o-3.44.0.3-py2.py3-none-any.whl size=265293968 sha256=ab1cdd08360b4b11b825d9f4bd9e2d2706d6d7815dac728f2359b34c7f182b3c\n",
            "  Stored in directory: /root/.cache/pip/wheels/77/9a/1c/2da26f943fd46b57f3c20b54847b936b9152b831dc7447cf71\n",
            "Successfully built h2o\n",
            "Installing collected packages: h2o\n",
            "Successfully installed h2o-3.44.0.3\n"
          ]
        }
      ],
      "source": [
        "!pip install requests\n",
        "! pip install tabulate\n",
        "!pip install \"colorama>=0.3.8\"\n",
        "!pip install future\n",
        "\n",
        "!pip uninstall h2o\n",
        "\n",
        "!pip install -f http://h2o-release.s3.amazonaws.com/h2o/latest_stable_Py.html h2o"
      ]
    },
    {
      "cell_type": "markdown",
      "source": [
        "Importing required libraries"
      ],
      "metadata": {
        "id": "uQF2YEOuMqyK"
      }
    },
    {
      "cell_type": "code",
      "source": [
        "import h2o\n",
        "from h2o.automl import H2OAutoML\n",
        "import random, os, sys\n",
        "from datetime import datetime\n",
        "import pandas as pd\n",
        "import logging\n",
        "import csv\n",
        "import optparse\n",
        "import time\n",
        "import json\n",
        "from distutils.util import strtobool\n",
        "import psutil\n",
        "import numpy as np\n",
        "import matplotlib.pyplot as plt"
      ],
      "metadata": {
        "id": "7MJOydHZMm1E"
      },
      "execution_count": 2,
      "outputs": []
    },
    {
      "cell_type": "markdown",
      "source": [
        "Setting a minimum memory size ensuring that the machine learning models have enough memory available to perform computations effectively and a run time in seconds."
      ],
      "metadata": {
        "id": "3yzwO7dcNESh"
      }
    },
    {
      "cell_type": "code",
      "source": [
        "min_mem_size=12\n",
        "run_time=222"
      ],
      "metadata": {
        "id": "_biqkJLqNFIi"
      },
      "execution_count": 3,
      "outputs": []
    },
    {
      "cell_type": "markdown",
      "source": [
        "Calculating and setting the minimum memory size to be 50% of the available resources using the psutil library, which provides information about system utilization, including memory.\n"
      ],
      "metadata": {
        "id": "Cu0f3BhNNQMv"
      }
    },
    {
      "cell_type": "code",
      "source": [
        "pct_memory=0.5\n",
        "virtual_memory=psutil.virtual_memory()\n",
        "min_mem_size=int(round(int(pct_memory*virtual_memory.available)/1073741824,0))\n",
        "print(min_mem_size)"
      ],
      "metadata": {
        "colab": {
          "base_uri": "https://localhost:8080/"
        },
        "id": "IBnpbdGXNB8N",
        "outputId": "8d540ca2-592d-4f6c-9ac9-c7a567f3396f"
      },
      "execution_count": 4,
      "outputs": [
        {
          "output_type": "stream",
          "name": "stdout",
          "text": [
            "6\n"
          ]
        }
      ]
    },
    {
      "cell_type": "markdown",
      "source": [
        "**Starting the H2O server on a random port**"
      ],
      "metadata": {
        "id": "t0wzpSQ4NXhh"
      }
    },
    {
      "cell_type": "markdown",
      "source": [
        "Generating a random port number between 5555 and 55555, and then attempting to initialize the H2O server with a specified minimum memory size, ensuring strict version checking is disabled. If any issues arise during initialization, it will log an error message, download all logs, shut down the H2O cluster, and exit the program."
      ],
      "metadata": {
        "id": "kdThvaLvNgET"
      }
    },
    {
      "cell_type": "code",
      "source": [
        "port_no=random.randint(5555,55555)\n",
        "\n",
        "try:\n",
        "  h2o.init(strict_version_check=False,min_mem_size_GB=min_mem_size,port=port_no) # start h2o\n",
        "except:\n",
        "  logging.critical('h2o.init')\n",
        "  h2o.download_all_logs(dirname=logs_path, filename=logfile)\n",
        "  h2o.cluster().shutdown()\n",
        "  sys.exit(2)"
      ],
      "metadata": {
        "colab": {
          "base_uri": "https://localhost:8080/",
          "height": 544
        },
        "id": "OK7UFRRwNUs6",
        "outputId": "42e724f0-fe71-4cdc-b201-ac6ebaa2fc1d"
      },
      "execution_count": 5,
      "outputs": [
        {
          "output_type": "stream",
          "name": "stdout",
          "text": [
            "Checking whether there is an H2O instance running at http://localhost:20853..... not found.\n",
            "Attempting to start a local H2O server...\n",
            "  Java Version: openjdk version \"11.0.21\" 2023-10-17; OpenJDK Runtime Environment (build 11.0.21+9-post-Ubuntu-0ubuntu122.04); OpenJDK 64-Bit Server VM (build 11.0.21+9-post-Ubuntu-0ubuntu122.04, mixed mode, sharing)\n",
            "  Starting server from /usr/local/lib/python3.10/dist-packages/h2o/backend/bin/h2o.jar\n",
            "  Ice root: /tmp/tmpwfpit3dj\n",
            "  JVM stdout: /tmp/tmpwfpit3dj/h2o_unknownUser_started_from_python.out\n",
            "  JVM stderr: /tmp/tmpwfpit3dj/h2o_unknownUser_started_from_python.err\n",
            "  Server is running at http://127.0.0.1:20853\n",
            "Connecting to H2O server at http://127.0.0.1:20853 ... successful.\n"
          ]
        },
        {
          "output_type": "display_data",
          "data": {
            "text/plain": [
              "--------------------------  -----------------------------------------------------------------------------------------\n",
              "H2O_cluster_uptime:         03 secs\n",
              "H2O_cluster_timezone:       Etc/UTC\n",
              "H2O_data_parsing_timezone:  UTC\n",
              "H2O_cluster_version:        3.44.0.3\n",
              "H2O_cluster_version_age:    1 month and 30 days\n",
              "H2O_cluster_name:           H2O_from_python_unknownUser_5pdr38\n",
              "H2O_cluster_total_nodes:    1\n",
              "H2O_cluster_free_memory:    6 Gb\n",
              "H2O_cluster_total_cores:    2\n",
              "H2O_cluster_allowed_cores:  2\n",
              "H2O_cluster_status:         locked, healthy\n",
              "H2O_connection_url:         http://127.0.0.1:20853\n",
              "H2O_connection_proxy:       {\"http\": null, \"https\": null, \"colab_language_server\": \"/usr/colab/bin/language_service\"}\n",
              "H2O_internal_security:      False\n",
              "Python_version:             3.10.12 final\n",
              "--------------------------  -----------------------------------------------------------------------------------------"
            ],
            "text/html": [
              "\n",
              "<style>\n",
              "\n",
              "#h2o-table-1.h2o-container {\n",
              "  overflow-x: auto;\n",
              "}\n",
              "#h2o-table-1 .h2o-table {\n",
              "  /* width: 100%; */\n",
              "  margin-top: 1em;\n",
              "  margin-bottom: 1em;\n",
              "}\n",
              "#h2o-table-1 .h2o-table caption {\n",
              "  white-space: nowrap;\n",
              "  caption-side: top;\n",
              "  text-align: left;\n",
              "  /* margin-left: 1em; */\n",
              "  margin: 0;\n",
              "  font-size: larger;\n",
              "}\n",
              "#h2o-table-1 .h2o-table thead {\n",
              "  white-space: nowrap; \n",
              "  position: sticky;\n",
              "  top: 0;\n",
              "  box-shadow: 0 -1px inset;\n",
              "}\n",
              "#h2o-table-1 .h2o-table tbody {\n",
              "  overflow: auto;\n",
              "}\n",
              "#h2o-table-1 .h2o-table th,\n",
              "#h2o-table-1 .h2o-table td {\n",
              "  text-align: right;\n",
              "  /* border: 1px solid; */\n",
              "}\n",
              "#h2o-table-1 .h2o-table tr:nth-child(even) {\n",
              "  /* background: #F5F5F5 */\n",
              "}\n",
              "\n",
              "</style>      \n",
              "<div id=\"h2o-table-1\" class=\"h2o-container\">\n",
              "  <table class=\"h2o-table\">\n",
              "    <caption></caption>\n",
              "    <thead></thead>\n",
              "    <tbody><tr><td>H2O_cluster_uptime:</td>\n",
              "<td>03 secs</td></tr>\n",
              "<tr><td>H2O_cluster_timezone:</td>\n",
              "<td>Etc/UTC</td></tr>\n",
              "<tr><td>H2O_data_parsing_timezone:</td>\n",
              "<td>UTC</td></tr>\n",
              "<tr><td>H2O_cluster_version:</td>\n",
              "<td>3.44.0.3</td></tr>\n",
              "<tr><td>H2O_cluster_version_age:</td>\n",
              "<td>1 month and 30 days</td></tr>\n",
              "<tr><td>H2O_cluster_name:</td>\n",
              "<td>H2O_from_python_unknownUser_5pdr38</td></tr>\n",
              "<tr><td>H2O_cluster_total_nodes:</td>\n",
              "<td>1</td></tr>\n",
              "<tr><td>H2O_cluster_free_memory:</td>\n",
              "<td>6 Gb</td></tr>\n",
              "<tr><td>H2O_cluster_total_cores:</td>\n",
              "<td>2</td></tr>\n",
              "<tr><td>H2O_cluster_allowed_cores:</td>\n",
              "<td>2</td></tr>\n",
              "<tr><td>H2O_cluster_status:</td>\n",
              "<td>locked, healthy</td></tr>\n",
              "<tr><td>H2O_connection_url:</td>\n",
              "<td>http://127.0.0.1:20853</td></tr>\n",
              "<tr><td>H2O_connection_proxy:</td>\n",
              "<td>{\"http\": null, \"https\": null, \"colab_language_server\": \"/usr/colab/bin/language_service\"}</td></tr>\n",
              "<tr><td>H2O_internal_security:</td>\n",
              "<td>False</td></tr>\n",
              "<tr><td>Python_version:</td>\n",
              "<td>3.10.12 final</td></tr></tbody>\n",
              "  </table>\n",
              "</div>\n"
            ]
          },
          "metadata": {}
        }
      ]
    },
    {
      "cell_type": "code",
      "source": [
        "#Importing our dataset\n",
        "url = \"https://raw.githubusercontent.com/PranavAkella-csye/-INFO-6105_Credit-Card-Approval-Prediction/main/UCI_Credit_Card.csv\"\n",
        "df = h2o.import_file(path = url)"
      ],
      "metadata": {
        "colab": {
          "base_uri": "https://localhost:8080/"
        },
        "id": "J-3AFyGWNpP1",
        "outputId": "613e968a-f2cf-4cb3-c18d-422b3a776b99"
      },
      "execution_count": 6,
      "outputs": [
        {
          "output_type": "stream",
          "name": "stdout",
          "text": [
            "Parse progress: |████████████████████████████████████████████████████████████████| (done) 100%\n"
          ]
        }
      ]
    },
    {
      "cell_type": "markdown",
      "source": [
        "Displaying the first few rows of the dataset"
      ],
      "metadata": {
        "id": "6G5XYOZSOAMG"
      }
    },
    {
      "cell_type": "code",
      "source": [
        "df.head()"
      ],
      "metadata": {
        "colab": {
          "base_uri": "https://localhost:8080/",
          "height": 409
        },
        "id": "IO9_CGXfN_bF",
        "outputId": "cfabafea-672b-411e-f34d-b577517ddc32"
      },
      "execution_count": 7,
      "outputs": [
        {
          "output_type": "execute_result",
          "data": {
            "text/plain": [
              "  ID    LIMIT_BAL    SEX    EDUCATION    MARRIAGE    AGE    PAY_0    PAY_2    PAY_3    PAY_4    PAY_5    PAY_6    BILL_AMT1    BILL_AMT2    BILL_AMT3    BILL_AMT4    BILL_AMT5    BILL_AMT6    PAY_AMT1    PAY_AMT2    PAY_AMT3    PAY_AMT4    PAY_AMT5    PAY_AMT6    default.payment.next.month\n",
              "----  -----------  -----  -----------  ----------  -----  -------  -------  -------  -------  -------  -------  -----------  -----------  -----------  -----------  -----------  -----------  ----------  ----------  ----------  ----------  ----------  ----------  ----------------------------\n",
              "   1        20000      2            2           1     24        2        2       -1       -1       -2       -2         3913         3102          689            0            0            0           0         689           0           0           0           0                             1\n",
              "   2       120000      2            2           2     26       -1        2        0        0        0        2         2682         1725         2682         3272         3455         3261           0        1000        1000        1000           0        2000                             1\n",
              "   3        90000      2            2           2     34        0        0        0        0        0        0        29239        14027        13559        14331        14948        15549        1518        1500        1000        1000        1000        5000                             0\n",
              "   4        50000      2            2           1     37        0        0        0        0        0        0        46990        48233        49291        28314        28959        29547        2000        2019        1200        1100        1069        1000                             0\n",
              "   5        50000      1            2           1     57       -1        0       -1        0        0        0         8617         5670        35835        20940        19146        19131        2000       36681       10000        9000         689         679                             0\n",
              "   6        50000      1            1           2     37        0        0        0        0        0        0        64400        57069        57608        19394        19619        20024        2500        1815         657        1000        1000         800                             0\n",
              "   7       500000      1            1           2     29        0        0        0        0        0        0       367965       412023       445007       542653       483003       473944       55000       40000       38000       20239       13750       13770                             0\n",
              "   8       100000      2            2           2     23        0       -1       -1        0        0       -1        11876          380          601          221         -159          567         380         601           0         581        1687        1542                             0\n",
              "   9       140000      2            3           1     28        0        0        2        0        0        0        11285        14096        12108        12211        11793         3719        3329           0         432        1000        1000        1000                             0\n",
              "  10        20000      1            3           2     35       -2       -2       -2       -2       -1       -1            0            0            0            0        13007        13912           0           0           0       13007        1122           0                             0\n",
              "[10 rows x 25 columns]\n"
            ],
            "text/html": [
              "<table class='dataframe'>\n",
              "<thead>\n",
              "<tr><th style=\"text-align: right;\">  ID</th><th style=\"text-align: right;\">  LIMIT_BAL</th><th style=\"text-align: right;\">  SEX</th><th style=\"text-align: right;\">  EDUCATION</th><th style=\"text-align: right;\">  MARRIAGE</th><th style=\"text-align: right;\">  AGE</th><th style=\"text-align: right;\">  PAY_0</th><th style=\"text-align: right;\">  PAY_2</th><th style=\"text-align: right;\">  PAY_3</th><th style=\"text-align: right;\">  PAY_4</th><th style=\"text-align: right;\">  PAY_5</th><th style=\"text-align: right;\">  PAY_6</th><th style=\"text-align: right;\">  BILL_AMT1</th><th style=\"text-align: right;\">  BILL_AMT2</th><th style=\"text-align: right;\">  BILL_AMT3</th><th style=\"text-align: right;\">  BILL_AMT4</th><th style=\"text-align: right;\">  BILL_AMT5</th><th style=\"text-align: right;\">  BILL_AMT6</th><th style=\"text-align: right;\">  PAY_AMT1</th><th style=\"text-align: right;\">  PAY_AMT2</th><th style=\"text-align: right;\">  PAY_AMT3</th><th style=\"text-align: right;\">  PAY_AMT4</th><th style=\"text-align: right;\">  PAY_AMT5</th><th style=\"text-align: right;\">  PAY_AMT6</th><th style=\"text-align: right;\">  default.payment.next.month</th></tr>\n",
              "</thead>\n",
              "<tbody>\n",
              "<tr><td style=\"text-align: right;\">   1</td><td style=\"text-align: right;\">      20000</td><td style=\"text-align: right;\">    2</td><td style=\"text-align: right;\">          2</td><td style=\"text-align: right;\">         1</td><td style=\"text-align: right;\">   24</td><td style=\"text-align: right;\">      2</td><td style=\"text-align: right;\">      2</td><td style=\"text-align: right;\">     -1</td><td style=\"text-align: right;\">     -1</td><td style=\"text-align: right;\">     -2</td><td style=\"text-align: right;\">     -2</td><td style=\"text-align: right;\">       3913</td><td style=\"text-align: right;\">       3102</td><td style=\"text-align: right;\">        689</td><td style=\"text-align: right;\">          0</td><td style=\"text-align: right;\">          0</td><td style=\"text-align: right;\">          0</td><td style=\"text-align: right;\">         0</td><td style=\"text-align: right;\">       689</td><td style=\"text-align: right;\">         0</td><td style=\"text-align: right;\">         0</td><td style=\"text-align: right;\">         0</td><td style=\"text-align: right;\">         0</td><td style=\"text-align: right;\">                           1</td></tr>\n",
              "<tr><td style=\"text-align: right;\">   2</td><td style=\"text-align: right;\">     120000</td><td style=\"text-align: right;\">    2</td><td style=\"text-align: right;\">          2</td><td style=\"text-align: right;\">         2</td><td style=\"text-align: right;\">   26</td><td style=\"text-align: right;\">     -1</td><td style=\"text-align: right;\">      2</td><td style=\"text-align: right;\">      0</td><td style=\"text-align: right;\">      0</td><td style=\"text-align: right;\">      0</td><td style=\"text-align: right;\">      2</td><td style=\"text-align: right;\">       2682</td><td style=\"text-align: right;\">       1725</td><td style=\"text-align: right;\">       2682</td><td style=\"text-align: right;\">       3272</td><td style=\"text-align: right;\">       3455</td><td style=\"text-align: right;\">       3261</td><td style=\"text-align: right;\">         0</td><td style=\"text-align: right;\">      1000</td><td style=\"text-align: right;\">      1000</td><td style=\"text-align: right;\">      1000</td><td style=\"text-align: right;\">         0</td><td style=\"text-align: right;\">      2000</td><td style=\"text-align: right;\">                           1</td></tr>\n",
              "<tr><td style=\"text-align: right;\">   3</td><td style=\"text-align: right;\">      90000</td><td style=\"text-align: right;\">    2</td><td style=\"text-align: right;\">          2</td><td style=\"text-align: right;\">         2</td><td style=\"text-align: right;\">   34</td><td style=\"text-align: right;\">      0</td><td style=\"text-align: right;\">      0</td><td style=\"text-align: right;\">      0</td><td style=\"text-align: right;\">      0</td><td style=\"text-align: right;\">      0</td><td style=\"text-align: right;\">      0</td><td style=\"text-align: right;\">      29239</td><td style=\"text-align: right;\">      14027</td><td style=\"text-align: right;\">      13559</td><td style=\"text-align: right;\">      14331</td><td style=\"text-align: right;\">      14948</td><td style=\"text-align: right;\">      15549</td><td style=\"text-align: right;\">      1518</td><td style=\"text-align: right;\">      1500</td><td style=\"text-align: right;\">      1000</td><td style=\"text-align: right;\">      1000</td><td style=\"text-align: right;\">      1000</td><td style=\"text-align: right;\">      5000</td><td style=\"text-align: right;\">                           0</td></tr>\n",
              "<tr><td style=\"text-align: right;\">   4</td><td style=\"text-align: right;\">      50000</td><td style=\"text-align: right;\">    2</td><td style=\"text-align: right;\">          2</td><td style=\"text-align: right;\">         1</td><td style=\"text-align: right;\">   37</td><td style=\"text-align: right;\">      0</td><td style=\"text-align: right;\">      0</td><td style=\"text-align: right;\">      0</td><td style=\"text-align: right;\">      0</td><td style=\"text-align: right;\">      0</td><td style=\"text-align: right;\">      0</td><td style=\"text-align: right;\">      46990</td><td style=\"text-align: right;\">      48233</td><td style=\"text-align: right;\">      49291</td><td style=\"text-align: right;\">      28314</td><td style=\"text-align: right;\">      28959</td><td style=\"text-align: right;\">      29547</td><td style=\"text-align: right;\">      2000</td><td style=\"text-align: right;\">      2019</td><td style=\"text-align: right;\">      1200</td><td style=\"text-align: right;\">      1100</td><td style=\"text-align: right;\">      1069</td><td style=\"text-align: right;\">      1000</td><td style=\"text-align: right;\">                           0</td></tr>\n",
              "<tr><td style=\"text-align: right;\">   5</td><td style=\"text-align: right;\">      50000</td><td style=\"text-align: right;\">    1</td><td style=\"text-align: right;\">          2</td><td style=\"text-align: right;\">         1</td><td style=\"text-align: right;\">   57</td><td style=\"text-align: right;\">     -1</td><td style=\"text-align: right;\">      0</td><td style=\"text-align: right;\">     -1</td><td style=\"text-align: right;\">      0</td><td style=\"text-align: right;\">      0</td><td style=\"text-align: right;\">      0</td><td style=\"text-align: right;\">       8617</td><td style=\"text-align: right;\">       5670</td><td style=\"text-align: right;\">      35835</td><td style=\"text-align: right;\">      20940</td><td style=\"text-align: right;\">      19146</td><td style=\"text-align: right;\">      19131</td><td style=\"text-align: right;\">      2000</td><td style=\"text-align: right;\">     36681</td><td style=\"text-align: right;\">     10000</td><td style=\"text-align: right;\">      9000</td><td style=\"text-align: right;\">       689</td><td style=\"text-align: right;\">       679</td><td style=\"text-align: right;\">                           0</td></tr>\n",
              "<tr><td style=\"text-align: right;\">   6</td><td style=\"text-align: right;\">      50000</td><td style=\"text-align: right;\">    1</td><td style=\"text-align: right;\">          1</td><td style=\"text-align: right;\">         2</td><td style=\"text-align: right;\">   37</td><td style=\"text-align: right;\">      0</td><td style=\"text-align: right;\">      0</td><td style=\"text-align: right;\">      0</td><td style=\"text-align: right;\">      0</td><td style=\"text-align: right;\">      0</td><td style=\"text-align: right;\">      0</td><td style=\"text-align: right;\">      64400</td><td style=\"text-align: right;\">      57069</td><td style=\"text-align: right;\">      57608</td><td style=\"text-align: right;\">      19394</td><td style=\"text-align: right;\">      19619</td><td style=\"text-align: right;\">      20024</td><td style=\"text-align: right;\">      2500</td><td style=\"text-align: right;\">      1815</td><td style=\"text-align: right;\">       657</td><td style=\"text-align: right;\">      1000</td><td style=\"text-align: right;\">      1000</td><td style=\"text-align: right;\">       800</td><td style=\"text-align: right;\">                           0</td></tr>\n",
              "<tr><td style=\"text-align: right;\">   7</td><td style=\"text-align: right;\">     500000</td><td style=\"text-align: right;\">    1</td><td style=\"text-align: right;\">          1</td><td style=\"text-align: right;\">         2</td><td style=\"text-align: right;\">   29</td><td style=\"text-align: right;\">      0</td><td style=\"text-align: right;\">      0</td><td style=\"text-align: right;\">      0</td><td style=\"text-align: right;\">      0</td><td style=\"text-align: right;\">      0</td><td style=\"text-align: right;\">      0</td><td style=\"text-align: right;\">     367965</td><td style=\"text-align: right;\">     412023</td><td style=\"text-align: right;\">     445007</td><td style=\"text-align: right;\">     542653</td><td style=\"text-align: right;\">     483003</td><td style=\"text-align: right;\">     473944</td><td style=\"text-align: right;\">     55000</td><td style=\"text-align: right;\">     40000</td><td style=\"text-align: right;\">     38000</td><td style=\"text-align: right;\">     20239</td><td style=\"text-align: right;\">     13750</td><td style=\"text-align: right;\">     13770</td><td style=\"text-align: right;\">                           0</td></tr>\n",
              "<tr><td style=\"text-align: right;\">   8</td><td style=\"text-align: right;\">     100000</td><td style=\"text-align: right;\">    2</td><td style=\"text-align: right;\">          2</td><td style=\"text-align: right;\">         2</td><td style=\"text-align: right;\">   23</td><td style=\"text-align: right;\">      0</td><td style=\"text-align: right;\">     -1</td><td style=\"text-align: right;\">     -1</td><td style=\"text-align: right;\">      0</td><td style=\"text-align: right;\">      0</td><td style=\"text-align: right;\">     -1</td><td style=\"text-align: right;\">      11876</td><td style=\"text-align: right;\">        380</td><td style=\"text-align: right;\">        601</td><td style=\"text-align: right;\">        221</td><td style=\"text-align: right;\">       -159</td><td style=\"text-align: right;\">        567</td><td style=\"text-align: right;\">       380</td><td style=\"text-align: right;\">       601</td><td style=\"text-align: right;\">         0</td><td style=\"text-align: right;\">       581</td><td style=\"text-align: right;\">      1687</td><td style=\"text-align: right;\">      1542</td><td style=\"text-align: right;\">                           0</td></tr>\n",
              "<tr><td style=\"text-align: right;\">   9</td><td style=\"text-align: right;\">     140000</td><td style=\"text-align: right;\">    2</td><td style=\"text-align: right;\">          3</td><td style=\"text-align: right;\">         1</td><td style=\"text-align: right;\">   28</td><td style=\"text-align: right;\">      0</td><td style=\"text-align: right;\">      0</td><td style=\"text-align: right;\">      2</td><td style=\"text-align: right;\">      0</td><td style=\"text-align: right;\">      0</td><td style=\"text-align: right;\">      0</td><td style=\"text-align: right;\">      11285</td><td style=\"text-align: right;\">      14096</td><td style=\"text-align: right;\">      12108</td><td style=\"text-align: right;\">      12211</td><td style=\"text-align: right;\">      11793</td><td style=\"text-align: right;\">       3719</td><td style=\"text-align: right;\">      3329</td><td style=\"text-align: right;\">         0</td><td style=\"text-align: right;\">       432</td><td style=\"text-align: right;\">      1000</td><td style=\"text-align: right;\">      1000</td><td style=\"text-align: right;\">      1000</td><td style=\"text-align: right;\">                           0</td></tr>\n",
              "<tr><td style=\"text-align: right;\">  10</td><td style=\"text-align: right;\">      20000</td><td style=\"text-align: right;\">    1</td><td style=\"text-align: right;\">          3</td><td style=\"text-align: right;\">         2</td><td style=\"text-align: right;\">   35</td><td style=\"text-align: right;\">     -2</td><td style=\"text-align: right;\">     -2</td><td style=\"text-align: right;\">     -2</td><td style=\"text-align: right;\">     -2</td><td style=\"text-align: right;\">     -1</td><td style=\"text-align: right;\">     -1</td><td style=\"text-align: right;\">          0</td><td style=\"text-align: right;\">          0</td><td style=\"text-align: right;\">          0</td><td style=\"text-align: right;\">          0</td><td style=\"text-align: right;\">      13007</td><td style=\"text-align: right;\">      13912</td><td style=\"text-align: right;\">         0</td><td style=\"text-align: right;\">         0</td><td style=\"text-align: right;\">         0</td><td style=\"text-align: right;\">     13007</td><td style=\"text-align: right;\">      1122</td><td style=\"text-align: right;\">         0</td><td style=\"text-align: right;\">                           0</td></tr>\n",
              "</tbody>\n",
              "</table><pre style='font-size: smaller; margin-bottom: 1em;'>[10 rows x 25 columns]</pre>"
            ]
          },
          "metadata": {},
          "execution_count": 7
        }
      ]
    },
    {
      "cell_type": "code",
      "source": [
        "df = df.drop(\"ID\")"
      ],
      "metadata": {
        "id": "dlcZa3Z5OFN8"
      },
      "execution_count": 8,
      "outputs": []
    },
    {
      "cell_type": "markdown",
      "source": [
        "Displaying the data types of the columns"
      ],
      "metadata": {
        "id": "3s35MC3kOM5z"
      }
    },
    {
      "cell_type": "code",
      "source": [
        "df.types"
      ],
      "metadata": {
        "colab": {
          "base_uri": "https://localhost:8080/"
        },
        "id": "SfxM7AVuOMSb",
        "outputId": "c4ae58de-7f5c-4866-a2c2-747622339672"
      },
      "execution_count": 9,
      "outputs": [
        {
          "output_type": "execute_result",
          "data": {
            "text/plain": [
              "{'LIMIT_BAL': 'int',\n",
              " 'SEX': 'int',\n",
              " 'EDUCATION': 'int',\n",
              " 'MARRIAGE': 'int',\n",
              " 'AGE': 'int',\n",
              " 'PAY_0': 'int',\n",
              " 'PAY_2': 'int',\n",
              " 'PAY_3': 'int',\n",
              " 'PAY_4': 'int',\n",
              " 'PAY_5': 'int',\n",
              " 'PAY_6': 'int',\n",
              " 'BILL_AMT1': 'int',\n",
              " 'BILL_AMT2': 'int',\n",
              " 'BILL_AMT3': 'int',\n",
              " 'BILL_AMT4': 'int',\n",
              " 'BILL_AMT5': 'int',\n",
              " 'BILL_AMT6': 'int',\n",
              " 'PAY_AMT1': 'int',\n",
              " 'PAY_AMT2': 'int',\n",
              " 'PAY_AMT3': 'int',\n",
              " 'PAY_AMT4': 'int',\n",
              " 'PAY_AMT5': 'int',\n",
              " 'PAY_AMT6': 'int',\n",
              " 'default.payment.next.month': 'int'}"
            ]
          },
          "metadata": {},
          "execution_count": 9
        }
      ]
    },
    {
      "cell_type": "markdown",
      "source": [
        "Renaming the predictor variable for the ease of use"
      ],
      "metadata": {
        "id": "vOCkkQIiOUqT"
      }
    },
    {
      "cell_type": "code",
      "source": [
        "df.rename(columns={'default.payment.next.month':'def_pay'})"
      ],
      "metadata": {
        "colab": {
          "base_uri": "https://localhost:8080/",
          "height": 409
        },
        "id": "F8csz2SYOTwt",
        "outputId": "5786abc8-626c-4e11-d01a-b762d596bab3"
      },
      "execution_count": 10,
      "outputs": [
        {
          "output_type": "execute_result",
          "data": {
            "text/plain": [
              "  LIMIT_BAL    SEX    EDUCATION    MARRIAGE    AGE    PAY_0    PAY_2    PAY_3    PAY_4    PAY_5    PAY_6    BILL_AMT1    BILL_AMT2    BILL_AMT3    BILL_AMT4    BILL_AMT5    BILL_AMT6    PAY_AMT1    PAY_AMT2    PAY_AMT3    PAY_AMT4    PAY_AMT5    PAY_AMT6    def_pay\n",
              "-----------  -----  -----------  ----------  -----  -------  -------  -------  -------  -------  -------  -----------  -----------  -----------  -----------  -----------  -----------  ----------  ----------  ----------  ----------  ----------  ----------  ---------\n",
              "      20000      2            2           1     24        2        2       -1       -1       -2       -2         3913         3102          689            0            0            0           0         689           0           0           0           0          1\n",
              "     120000      2            2           2     26       -1        2        0        0        0        2         2682         1725         2682         3272         3455         3261           0        1000        1000        1000           0        2000          1\n",
              "      90000      2            2           2     34        0        0        0        0        0        0        29239        14027        13559        14331        14948        15549        1518        1500        1000        1000        1000        5000          0\n",
              "      50000      2            2           1     37        0        0        0        0        0        0        46990        48233        49291        28314        28959        29547        2000        2019        1200        1100        1069        1000          0\n",
              "      50000      1            2           1     57       -1        0       -1        0        0        0         8617         5670        35835        20940        19146        19131        2000       36681       10000        9000         689         679          0\n",
              "      50000      1            1           2     37        0        0        0        0        0        0        64400        57069        57608        19394        19619        20024        2500        1815         657        1000        1000         800          0\n",
              "     500000      1            1           2     29        0        0        0        0        0        0       367965       412023       445007       542653       483003       473944       55000       40000       38000       20239       13750       13770          0\n",
              "     100000      2            2           2     23        0       -1       -1        0        0       -1        11876          380          601          221         -159          567         380         601           0         581        1687        1542          0\n",
              "     140000      2            3           1     28        0        0        2        0        0        0        11285        14096        12108        12211        11793         3719        3329           0         432        1000        1000        1000          0\n",
              "      20000      1            3           2     35       -2       -2       -2       -2       -1       -1            0            0            0            0        13007        13912           0           0           0       13007        1122           0          0\n",
              "[30000 rows x 24 columns]\n"
            ],
            "text/html": [
              "<table class='dataframe'>\n",
              "<thead>\n",
              "<tr><th style=\"text-align: right;\">  LIMIT_BAL</th><th style=\"text-align: right;\">  SEX</th><th style=\"text-align: right;\">  EDUCATION</th><th style=\"text-align: right;\">  MARRIAGE</th><th style=\"text-align: right;\">  AGE</th><th style=\"text-align: right;\">  PAY_0</th><th style=\"text-align: right;\">  PAY_2</th><th style=\"text-align: right;\">  PAY_3</th><th style=\"text-align: right;\">  PAY_4</th><th style=\"text-align: right;\">  PAY_5</th><th style=\"text-align: right;\">  PAY_6</th><th style=\"text-align: right;\">  BILL_AMT1</th><th style=\"text-align: right;\">  BILL_AMT2</th><th style=\"text-align: right;\">  BILL_AMT3</th><th style=\"text-align: right;\">  BILL_AMT4</th><th style=\"text-align: right;\">  BILL_AMT5</th><th style=\"text-align: right;\">  BILL_AMT6</th><th style=\"text-align: right;\">  PAY_AMT1</th><th style=\"text-align: right;\">  PAY_AMT2</th><th style=\"text-align: right;\">  PAY_AMT3</th><th style=\"text-align: right;\">  PAY_AMT4</th><th style=\"text-align: right;\">  PAY_AMT5</th><th style=\"text-align: right;\">  PAY_AMT6</th><th style=\"text-align: right;\">  def_pay</th></tr>\n",
              "</thead>\n",
              "<tbody>\n",
              "<tr><td style=\"text-align: right;\">      20000</td><td style=\"text-align: right;\">    2</td><td style=\"text-align: right;\">          2</td><td style=\"text-align: right;\">         1</td><td style=\"text-align: right;\">   24</td><td style=\"text-align: right;\">      2</td><td style=\"text-align: right;\">      2</td><td style=\"text-align: right;\">     -1</td><td style=\"text-align: right;\">     -1</td><td style=\"text-align: right;\">     -2</td><td style=\"text-align: right;\">     -2</td><td style=\"text-align: right;\">       3913</td><td style=\"text-align: right;\">       3102</td><td style=\"text-align: right;\">        689</td><td style=\"text-align: right;\">          0</td><td style=\"text-align: right;\">          0</td><td style=\"text-align: right;\">          0</td><td style=\"text-align: right;\">         0</td><td style=\"text-align: right;\">       689</td><td style=\"text-align: right;\">         0</td><td style=\"text-align: right;\">         0</td><td style=\"text-align: right;\">         0</td><td style=\"text-align: right;\">         0</td><td style=\"text-align: right;\">        1</td></tr>\n",
              "<tr><td style=\"text-align: right;\">     120000</td><td style=\"text-align: right;\">    2</td><td style=\"text-align: right;\">          2</td><td style=\"text-align: right;\">         2</td><td style=\"text-align: right;\">   26</td><td style=\"text-align: right;\">     -1</td><td style=\"text-align: right;\">      2</td><td style=\"text-align: right;\">      0</td><td style=\"text-align: right;\">      0</td><td style=\"text-align: right;\">      0</td><td style=\"text-align: right;\">      2</td><td style=\"text-align: right;\">       2682</td><td style=\"text-align: right;\">       1725</td><td style=\"text-align: right;\">       2682</td><td style=\"text-align: right;\">       3272</td><td style=\"text-align: right;\">       3455</td><td style=\"text-align: right;\">       3261</td><td style=\"text-align: right;\">         0</td><td style=\"text-align: right;\">      1000</td><td style=\"text-align: right;\">      1000</td><td style=\"text-align: right;\">      1000</td><td style=\"text-align: right;\">         0</td><td style=\"text-align: right;\">      2000</td><td style=\"text-align: right;\">        1</td></tr>\n",
              "<tr><td style=\"text-align: right;\">      90000</td><td style=\"text-align: right;\">    2</td><td style=\"text-align: right;\">          2</td><td style=\"text-align: right;\">         2</td><td style=\"text-align: right;\">   34</td><td style=\"text-align: right;\">      0</td><td style=\"text-align: right;\">      0</td><td style=\"text-align: right;\">      0</td><td style=\"text-align: right;\">      0</td><td style=\"text-align: right;\">      0</td><td style=\"text-align: right;\">      0</td><td style=\"text-align: right;\">      29239</td><td style=\"text-align: right;\">      14027</td><td style=\"text-align: right;\">      13559</td><td style=\"text-align: right;\">      14331</td><td style=\"text-align: right;\">      14948</td><td style=\"text-align: right;\">      15549</td><td style=\"text-align: right;\">      1518</td><td style=\"text-align: right;\">      1500</td><td style=\"text-align: right;\">      1000</td><td style=\"text-align: right;\">      1000</td><td style=\"text-align: right;\">      1000</td><td style=\"text-align: right;\">      5000</td><td style=\"text-align: right;\">        0</td></tr>\n",
              "<tr><td style=\"text-align: right;\">      50000</td><td style=\"text-align: right;\">    2</td><td style=\"text-align: right;\">          2</td><td style=\"text-align: right;\">         1</td><td style=\"text-align: right;\">   37</td><td style=\"text-align: right;\">      0</td><td style=\"text-align: right;\">      0</td><td style=\"text-align: right;\">      0</td><td style=\"text-align: right;\">      0</td><td style=\"text-align: right;\">      0</td><td style=\"text-align: right;\">      0</td><td style=\"text-align: right;\">      46990</td><td style=\"text-align: right;\">      48233</td><td style=\"text-align: right;\">      49291</td><td style=\"text-align: right;\">      28314</td><td style=\"text-align: right;\">      28959</td><td style=\"text-align: right;\">      29547</td><td style=\"text-align: right;\">      2000</td><td style=\"text-align: right;\">      2019</td><td style=\"text-align: right;\">      1200</td><td style=\"text-align: right;\">      1100</td><td style=\"text-align: right;\">      1069</td><td style=\"text-align: right;\">      1000</td><td style=\"text-align: right;\">        0</td></tr>\n",
              "<tr><td style=\"text-align: right;\">      50000</td><td style=\"text-align: right;\">    1</td><td style=\"text-align: right;\">          2</td><td style=\"text-align: right;\">         1</td><td style=\"text-align: right;\">   57</td><td style=\"text-align: right;\">     -1</td><td style=\"text-align: right;\">      0</td><td style=\"text-align: right;\">     -1</td><td style=\"text-align: right;\">      0</td><td style=\"text-align: right;\">      0</td><td style=\"text-align: right;\">      0</td><td style=\"text-align: right;\">       8617</td><td style=\"text-align: right;\">       5670</td><td style=\"text-align: right;\">      35835</td><td style=\"text-align: right;\">      20940</td><td style=\"text-align: right;\">      19146</td><td style=\"text-align: right;\">      19131</td><td style=\"text-align: right;\">      2000</td><td style=\"text-align: right;\">     36681</td><td style=\"text-align: right;\">     10000</td><td style=\"text-align: right;\">      9000</td><td style=\"text-align: right;\">       689</td><td style=\"text-align: right;\">       679</td><td style=\"text-align: right;\">        0</td></tr>\n",
              "<tr><td style=\"text-align: right;\">      50000</td><td style=\"text-align: right;\">    1</td><td style=\"text-align: right;\">          1</td><td style=\"text-align: right;\">         2</td><td style=\"text-align: right;\">   37</td><td style=\"text-align: right;\">      0</td><td style=\"text-align: right;\">      0</td><td style=\"text-align: right;\">      0</td><td style=\"text-align: right;\">      0</td><td style=\"text-align: right;\">      0</td><td style=\"text-align: right;\">      0</td><td style=\"text-align: right;\">      64400</td><td style=\"text-align: right;\">      57069</td><td style=\"text-align: right;\">      57608</td><td style=\"text-align: right;\">      19394</td><td style=\"text-align: right;\">      19619</td><td style=\"text-align: right;\">      20024</td><td style=\"text-align: right;\">      2500</td><td style=\"text-align: right;\">      1815</td><td style=\"text-align: right;\">       657</td><td style=\"text-align: right;\">      1000</td><td style=\"text-align: right;\">      1000</td><td style=\"text-align: right;\">       800</td><td style=\"text-align: right;\">        0</td></tr>\n",
              "<tr><td style=\"text-align: right;\">     500000</td><td style=\"text-align: right;\">    1</td><td style=\"text-align: right;\">          1</td><td style=\"text-align: right;\">         2</td><td style=\"text-align: right;\">   29</td><td style=\"text-align: right;\">      0</td><td style=\"text-align: right;\">      0</td><td style=\"text-align: right;\">      0</td><td style=\"text-align: right;\">      0</td><td style=\"text-align: right;\">      0</td><td style=\"text-align: right;\">      0</td><td style=\"text-align: right;\">     367965</td><td style=\"text-align: right;\">     412023</td><td style=\"text-align: right;\">     445007</td><td style=\"text-align: right;\">     542653</td><td style=\"text-align: right;\">     483003</td><td style=\"text-align: right;\">     473944</td><td style=\"text-align: right;\">     55000</td><td style=\"text-align: right;\">     40000</td><td style=\"text-align: right;\">     38000</td><td style=\"text-align: right;\">     20239</td><td style=\"text-align: right;\">     13750</td><td style=\"text-align: right;\">     13770</td><td style=\"text-align: right;\">        0</td></tr>\n",
              "<tr><td style=\"text-align: right;\">     100000</td><td style=\"text-align: right;\">    2</td><td style=\"text-align: right;\">          2</td><td style=\"text-align: right;\">         2</td><td style=\"text-align: right;\">   23</td><td style=\"text-align: right;\">      0</td><td style=\"text-align: right;\">     -1</td><td style=\"text-align: right;\">     -1</td><td style=\"text-align: right;\">      0</td><td style=\"text-align: right;\">      0</td><td style=\"text-align: right;\">     -1</td><td style=\"text-align: right;\">      11876</td><td style=\"text-align: right;\">        380</td><td style=\"text-align: right;\">        601</td><td style=\"text-align: right;\">        221</td><td style=\"text-align: right;\">       -159</td><td style=\"text-align: right;\">        567</td><td style=\"text-align: right;\">       380</td><td style=\"text-align: right;\">       601</td><td style=\"text-align: right;\">         0</td><td style=\"text-align: right;\">       581</td><td style=\"text-align: right;\">      1687</td><td style=\"text-align: right;\">      1542</td><td style=\"text-align: right;\">        0</td></tr>\n",
              "<tr><td style=\"text-align: right;\">     140000</td><td style=\"text-align: right;\">    2</td><td style=\"text-align: right;\">          3</td><td style=\"text-align: right;\">         1</td><td style=\"text-align: right;\">   28</td><td style=\"text-align: right;\">      0</td><td style=\"text-align: right;\">      0</td><td style=\"text-align: right;\">      2</td><td style=\"text-align: right;\">      0</td><td style=\"text-align: right;\">      0</td><td style=\"text-align: right;\">      0</td><td style=\"text-align: right;\">      11285</td><td style=\"text-align: right;\">      14096</td><td style=\"text-align: right;\">      12108</td><td style=\"text-align: right;\">      12211</td><td style=\"text-align: right;\">      11793</td><td style=\"text-align: right;\">       3719</td><td style=\"text-align: right;\">      3329</td><td style=\"text-align: right;\">         0</td><td style=\"text-align: right;\">       432</td><td style=\"text-align: right;\">      1000</td><td style=\"text-align: right;\">      1000</td><td style=\"text-align: right;\">      1000</td><td style=\"text-align: right;\">        0</td></tr>\n",
              "<tr><td style=\"text-align: right;\">      20000</td><td style=\"text-align: right;\">    1</td><td style=\"text-align: right;\">          3</td><td style=\"text-align: right;\">         2</td><td style=\"text-align: right;\">   35</td><td style=\"text-align: right;\">     -2</td><td style=\"text-align: right;\">     -2</td><td style=\"text-align: right;\">     -2</td><td style=\"text-align: right;\">     -2</td><td style=\"text-align: right;\">     -1</td><td style=\"text-align: right;\">     -1</td><td style=\"text-align: right;\">          0</td><td style=\"text-align: right;\">          0</td><td style=\"text-align: right;\">          0</td><td style=\"text-align: right;\">          0</td><td style=\"text-align: right;\">      13007</td><td style=\"text-align: right;\">      13912</td><td style=\"text-align: right;\">         0</td><td style=\"text-align: right;\">         0</td><td style=\"text-align: right;\">         0</td><td style=\"text-align: right;\">     13007</td><td style=\"text-align: right;\">      1122</td><td style=\"text-align: right;\">         0</td><td style=\"text-align: right;\">        0</td></tr>\n",
              "</tbody>\n",
              "</table><pre style='font-size: smaller; margin-bottom: 1em;'>[30000 rows x 24 columns]</pre>"
            ]
          },
          "metadata": {},
          "execution_count": 10
        }
      ]
    },
    {
      "cell_type": "code",
      "source": [
        "df.describe()"
      ],
      "metadata": {
        "colab": {
          "base_uri": "https://localhost:8080/",
          "height": 691
        },
        "id": "UuTJ9NylOb3v",
        "outputId": "23db704e-54c7-462e-b466-68fcc433ee13"
      },
      "execution_count": 11,
      "outputs": [
        {
          "output_type": "display_data",
          "data": {
            "text/plain": [
              "Rows:30000\n",
              "Cols:24\n"
            ],
            "text/html": [
              "<pre style='margin: 1em 0 1em 0;'>Rows:30000\n",
              "Cols:24\n",
              "</pre>"
            ]
          },
          "metadata": {}
        },
        {
          "output_type": "display_data",
          "data": {
            "text/plain": [
              "         LIMIT_BAL           SEX                 EDUCATION           MARRIAGE            AGE                PAY_0                 PAY_2                PAY_3                 PAY_4                PAY_5                 PAY_6                 BILL_AMT1          BILL_AMT2          BILL_AMT3          BILL_AMT4          BILL_AMT5          BILL_AMT6          PAY_AMT1            PAY_AMT2            PAY_AMT3            PAY_AMT4            PAY_AMT5            PAY_AMT6           def_pay\n",
              "-------  ------------------  ------------------  ------------------  ------------------  -----------------  --------------------  -------------------  --------------------  -------------------  --------------------  --------------------  -----------------  -----------------  -----------------  -----------------  -----------------  -----------------  ------------------  ------------------  ------------------  ------------------  ------------------  -----------------  -------------------\n",
              "type     int                 int                 int                 int                 int                int                   int                  int                   int                  int                   int                   int                int                int                int                int                int                int                 int                 int                 int                 int                 int                int\n",
              "mins     10000.0             1.0                 0.0                 0.0                 21.0               -2.0                  -2.0                 -2.0                  -2.0                 -2.0                  -2.0                  -165580.0          -69777.0           -157264.0          -170000.0          -81334.0           -339603.0          0.0                 0.0                 0.0                 0.0                 0.0                 0.0                0.0\n",
              "mean     167484.3226666665   1.6037333333333328  1.853133333333333   1.5518666666666663  35.48550000000003  -0.01670000000000002  -0.1337666666666667  -0.16619999999999982  -0.2206666666666666  -0.26619999999999994  -0.29110000000000025  51223.33089999999  49179.0751666667   47013.15479999996  43262.94896666666  40311.40096666667  38871.76039999998  5663.580499999998   5921.163500000006   5225.681500000002   4826.076866666673   4799.3876333333355  5215.502566666667  0.2212\n",
              "maxs     1000000.0           2.0                 6.0                 3.0                 79.0               8.0                   8.0                  8.0                   8.0                  8.0                   8.0                   964511.0           983931.0           1664089.0          891586.0           927171.0           961664.0           873552.0            1684259.0           896040.0            621000.0            426529.0            528666.0           1.0\n",
              "sigma    129747.66156720238  0.4891291960902605  0.7903486597207294  0.5219696006132486  9.217904068090188  1.123801527997334     1.1971859730345529   1.1968675684465735    1.1691386224023375   1.1331874060027478    1.1499876256079027    73635.86057552956  71173.76878252832  69349.38742703684  64332.85613391629  60797.15577026488  59554.10753674574  16563.280354025763  23040.870402057237  17606.961469803104  15666.159744032004  15278.3056791448    17777.4657754353   0.41506180569093337\n",
              "zeros    0                   0                   14                  54                  0                  14737                 15730                15764                 16455                16947                 16286                 2008               2506               2870               3195               3506               4020               5249                5396                5968                6408                6703                7173               23364\n",
              "missing  0                   0                   0                   0                   0                  0                     0                    0                     0                    0                     0                     0                  0                  0                  0                  0                  0                  0                   0                   0                   0                   0                   0                  0\n",
              "0        20000.0             2.0                 2.0                 1.0                 24.0               2.0                   2.0                  -1.0                  -1.0                 -2.0                  -2.0                  3913.0             3102.0             689.0              0.0                0.0                0.0                0.0                 689.0               0.0                 0.0                 0.0                 0.0                1.0\n",
              "1        120000.0            2.0                 2.0                 2.0                 26.0               -1.0                  2.0                  0.0                   0.0                  0.0                   2.0                   2682.0             1725.0             2682.0             3272.0             3455.0             3261.0             0.0                 1000.0              1000.0              1000.0              0.0                 2000.0             1.0\n",
              "2        90000.0             2.0                 2.0                 2.0                 34.0               0.0                   0.0                  0.0                   0.0                  0.0                   0.0                   29239.0            14027.0            13559.0            14331.0            14948.0            15549.0            1518.0              1500.0              1000.0              1000.0              1000.0              5000.0             0.0\n",
              "3        50000.0             2.0                 2.0                 1.0                 37.0               0.0                   0.0                  0.0                   0.0                  0.0                   0.0                   46990.0            48233.0            49291.0            28314.0            28959.0            29547.0            2000.0              2019.0              1200.0              1100.0              1069.0              1000.0             0.0\n",
              "4        50000.0             1.0                 2.0                 1.0                 57.0               -1.0                  0.0                  -1.0                  0.0                  0.0                   0.0                   8617.0             5670.0             35835.0            20940.0            19146.0            19131.0            2000.0              36681.0             10000.0             9000.0              689.0               679.0              0.0\n",
              "5        50000.0             1.0                 1.0                 2.0                 37.0               0.0                   0.0                  0.0                   0.0                  0.0                   0.0                   64400.0            57069.0            57608.0            19394.0            19619.0            20024.0            2500.0              1815.0              657.0               1000.0              1000.0              800.0              0.0\n",
              "6        500000.0            1.0                 1.0                 2.0                 29.0               0.0                   0.0                  0.0                   0.0                  0.0                   0.0                   367965.0           412023.0           445007.0           542653.0           483003.0           473944.0           55000.0             40000.0             38000.0             20239.0             13750.0             13770.0            0.0\n",
              "7        100000.0            2.0                 2.0                 2.0                 23.0               0.0                   -1.0                 -1.0                  0.0                  0.0                   -1.0                  11876.0            380.0              601.0              221.0              -159.0             567.0              380.0               601.0               0.0                 581.0               1687.0              1542.0             0.0\n",
              "8        140000.0            2.0                 3.0                 1.0                 28.0               0.0                   0.0                  2.0                   0.0                  0.0                   0.0                   11285.0            14096.0            12108.0            12211.0            11793.0            3719.0             3329.0              0.0                 432.0               1000.0              1000.0              1000.0             0.0\n",
              "9        20000.0             1.0                 3.0                 2.0                 35.0               -2.0                  -2.0                 -2.0                  -2.0                 -1.0                  -1.0                  0.0                0.0                0.0                0.0                13007.0            13912.0            0.0                 0.0                 0.0                 13007.0             1122.0              0.0                0.0\n",
              "[30000 rows x 24 columns]\n"
            ],
            "text/html": [
              "<table class='dataframe'>\n",
              "<thead>\n",
              "<tr><th>       </th><th>LIMIT_BAL         </th><th>SEX               </th><th>EDUCATION         </th><th>MARRIAGE          </th><th>AGE              </th><th>PAY_0               </th><th>PAY_2              </th><th>PAY_3               </th><th>PAY_4              </th><th>PAY_5               </th><th>PAY_6               </th><th>BILL_AMT1        </th><th>BILL_AMT2        </th><th>BILL_AMT3        </th><th>BILL_AMT4        </th><th>BILL_AMT5        </th><th>BILL_AMT6        </th><th>PAY_AMT1          </th><th>PAY_AMT2          </th><th>PAY_AMT3          </th><th>PAY_AMT4          </th><th>PAY_AMT5          </th><th>PAY_AMT6         </th><th>def_pay            </th></tr>\n",
              "</thead>\n",
              "<tbody>\n",
              "<tr><td>type   </td><td>int               </td><td>int               </td><td>int               </td><td>int               </td><td>int              </td><td>int                 </td><td>int                </td><td>int                 </td><td>int                </td><td>int                 </td><td>int                 </td><td>int              </td><td>int              </td><td>int              </td><td>int              </td><td>int              </td><td>int              </td><td>int               </td><td>int               </td><td>int               </td><td>int               </td><td>int               </td><td>int              </td><td>int                </td></tr>\n",
              "<tr><td>mins   </td><td>10000.0           </td><td>1.0               </td><td>0.0               </td><td>0.0               </td><td>21.0             </td><td>-2.0                </td><td>-2.0               </td><td>-2.0                </td><td>-2.0               </td><td>-2.0                </td><td>-2.0                </td><td>-165580.0        </td><td>-69777.0         </td><td>-157264.0        </td><td>-170000.0        </td><td>-81334.0         </td><td>-339603.0        </td><td>0.0               </td><td>0.0               </td><td>0.0               </td><td>0.0               </td><td>0.0               </td><td>0.0              </td><td>0.0                </td></tr>\n",
              "<tr><td>mean   </td><td>167484.3226666665 </td><td>1.6037333333333328</td><td>1.853133333333333 </td><td>1.5518666666666663</td><td>35.48550000000003</td><td>-0.01670000000000002</td><td>-0.1337666666666667</td><td>-0.16619999999999982</td><td>-0.2206666666666666</td><td>-0.26619999999999994</td><td>-0.29110000000000025</td><td>51223.33089999999</td><td>49179.0751666667 </td><td>47013.15479999996</td><td>43262.94896666666</td><td>40311.40096666667</td><td>38871.76039999998</td><td>5663.580499999998 </td><td>5921.163500000006 </td><td>5225.681500000002 </td><td>4826.076866666673 </td><td>4799.3876333333355</td><td>5215.502566666667</td><td>0.2212             </td></tr>\n",
              "<tr><td>maxs   </td><td>1000000.0         </td><td>2.0               </td><td>6.0               </td><td>3.0               </td><td>79.0             </td><td>8.0                 </td><td>8.0                </td><td>8.0                 </td><td>8.0                </td><td>8.0                 </td><td>8.0                 </td><td>964511.0         </td><td>983931.0         </td><td>1664089.0        </td><td>891586.0         </td><td>927171.0         </td><td>961664.0         </td><td>873552.0          </td><td>1684259.0         </td><td>896040.0          </td><td>621000.0          </td><td>426529.0          </td><td>528666.0         </td><td>1.0                </td></tr>\n",
              "<tr><td>sigma  </td><td>129747.66156720238</td><td>0.4891291960902605</td><td>0.7903486597207294</td><td>0.5219696006132486</td><td>9.217904068090188</td><td>1.123801527997334   </td><td>1.1971859730345529 </td><td>1.1968675684465735  </td><td>1.1691386224023375 </td><td>1.1331874060027478  </td><td>1.1499876256079027  </td><td>73635.86057552956</td><td>71173.76878252832</td><td>69349.38742703684</td><td>64332.85613391629</td><td>60797.15577026488</td><td>59554.10753674574</td><td>16563.280354025763</td><td>23040.870402057237</td><td>17606.961469803104</td><td>15666.159744032004</td><td>15278.3056791448  </td><td>17777.4657754353 </td><td>0.41506180569093337</td></tr>\n",
              "<tr><td>zeros  </td><td>0                 </td><td>0                 </td><td>14                </td><td>54                </td><td>0                </td><td>14737               </td><td>15730              </td><td>15764               </td><td>16455              </td><td>16947               </td><td>16286               </td><td>2008             </td><td>2506             </td><td>2870             </td><td>3195             </td><td>3506             </td><td>4020             </td><td>5249              </td><td>5396              </td><td>5968              </td><td>6408              </td><td>6703              </td><td>7173             </td><td>23364              </td></tr>\n",
              "<tr><td>missing</td><td>0                 </td><td>0                 </td><td>0                 </td><td>0                 </td><td>0                </td><td>0                   </td><td>0                  </td><td>0                   </td><td>0                  </td><td>0                   </td><td>0                   </td><td>0                </td><td>0                </td><td>0                </td><td>0                </td><td>0                </td><td>0                </td><td>0                 </td><td>0                 </td><td>0                 </td><td>0                 </td><td>0                 </td><td>0                </td><td>0                  </td></tr>\n",
              "<tr><td>0      </td><td>20000.0           </td><td>2.0               </td><td>2.0               </td><td>1.0               </td><td>24.0             </td><td>2.0                 </td><td>2.0                </td><td>-1.0                </td><td>-1.0               </td><td>-2.0                </td><td>-2.0                </td><td>3913.0           </td><td>3102.0           </td><td>689.0            </td><td>0.0              </td><td>0.0              </td><td>0.0              </td><td>0.0               </td><td>689.0             </td><td>0.0               </td><td>0.0               </td><td>0.0               </td><td>0.0              </td><td>1.0                </td></tr>\n",
              "<tr><td>1      </td><td>120000.0          </td><td>2.0               </td><td>2.0               </td><td>2.0               </td><td>26.0             </td><td>-1.0                </td><td>2.0                </td><td>0.0                 </td><td>0.0                </td><td>0.0                 </td><td>2.0                 </td><td>2682.0           </td><td>1725.0           </td><td>2682.0           </td><td>3272.0           </td><td>3455.0           </td><td>3261.0           </td><td>0.0               </td><td>1000.0            </td><td>1000.0            </td><td>1000.0            </td><td>0.0               </td><td>2000.0           </td><td>1.0                </td></tr>\n",
              "<tr><td>2      </td><td>90000.0           </td><td>2.0               </td><td>2.0               </td><td>2.0               </td><td>34.0             </td><td>0.0                 </td><td>0.0                </td><td>0.0                 </td><td>0.0                </td><td>0.0                 </td><td>0.0                 </td><td>29239.0          </td><td>14027.0          </td><td>13559.0          </td><td>14331.0          </td><td>14948.0          </td><td>15549.0          </td><td>1518.0            </td><td>1500.0            </td><td>1000.0            </td><td>1000.0            </td><td>1000.0            </td><td>5000.0           </td><td>0.0                </td></tr>\n",
              "<tr><td>3      </td><td>50000.0           </td><td>2.0               </td><td>2.0               </td><td>1.0               </td><td>37.0             </td><td>0.0                 </td><td>0.0                </td><td>0.0                 </td><td>0.0                </td><td>0.0                 </td><td>0.0                 </td><td>46990.0          </td><td>48233.0          </td><td>49291.0          </td><td>28314.0          </td><td>28959.0          </td><td>29547.0          </td><td>2000.0            </td><td>2019.0            </td><td>1200.0            </td><td>1100.0            </td><td>1069.0            </td><td>1000.0           </td><td>0.0                </td></tr>\n",
              "<tr><td>4      </td><td>50000.0           </td><td>1.0               </td><td>2.0               </td><td>1.0               </td><td>57.0             </td><td>-1.0                </td><td>0.0                </td><td>-1.0                </td><td>0.0                </td><td>0.0                 </td><td>0.0                 </td><td>8617.0           </td><td>5670.0           </td><td>35835.0          </td><td>20940.0          </td><td>19146.0          </td><td>19131.0          </td><td>2000.0            </td><td>36681.0           </td><td>10000.0           </td><td>9000.0            </td><td>689.0             </td><td>679.0            </td><td>0.0                </td></tr>\n",
              "<tr><td>5      </td><td>50000.0           </td><td>1.0               </td><td>1.0               </td><td>2.0               </td><td>37.0             </td><td>0.0                 </td><td>0.0                </td><td>0.0                 </td><td>0.0                </td><td>0.0                 </td><td>0.0                 </td><td>64400.0          </td><td>57069.0          </td><td>57608.0          </td><td>19394.0          </td><td>19619.0          </td><td>20024.0          </td><td>2500.0            </td><td>1815.0            </td><td>657.0             </td><td>1000.0            </td><td>1000.0            </td><td>800.0            </td><td>0.0                </td></tr>\n",
              "<tr><td>6      </td><td>500000.0          </td><td>1.0               </td><td>1.0               </td><td>2.0               </td><td>29.0             </td><td>0.0                 </td><td>0.0                </td><td>0.0                 </td><td>0.0                </td><td>0.0                 </td><td>0.0                 </td><td>367965.0         </td><td>412023.0         </td><td>445007.0         </td><td>542653.0         </td><td>483003.0         </td><td>473944.0         </td><td>55000.0           </td><td>40000.0           </td><td>38000.0           </td><td>20239.0           </td><td>13750.0           </td><td>13770.0          </td><td>0.0                </td></tr>\n",
              "<tr><td>7      </td><td>100000.0          </td><td>2.0               </td><td>2.0               </td><td>2.0               </td><td>23.0             </td><td>0.0                 </td><td>-1.0               </td><td>-1.0                </td><td>0.0                </td><td>0.0                 </td><td>-1.0                </td><td>11876.0          </td><td>380.0            </td><td>601.0            </td><td>221.0            </td><td>-159.0           </td><td>567.0            </td><td>380.0             </td><td>601.0             </td><td>0.0               </td><td>581.0             </td><td>1687.0            </td><td>1542.0           </td><td>0.0                </td></tr>\n",
              "<tr><td>8      </td><td>140000.0          </td><td>2.0               </td><td>3.0               </td><td>1.0               </td><td>28.0             </td><td>0.0                 </td><td>0.0                </td><td>2.0                 </td><td>0.0                </td><td>0.0                 </td><td>0.0                 </td><td>11285.0          </td><td>14096.0          </td><td>12108.0          </td><td>12211.0          </td><td>11793.0          </td><td>3719.0           </td><td>3329.0            </td><td>0.0               </td><td>432.0             </td><td>1000.0            </td><td>1000.0            </td><td>1000.0           </td><td>0.0                </td></tr>\n",
              "<tr><td>9      </td><td>20000.0           </td><td>1.0               </td><td>3.0               </td><td>2.0               </td><td>35.0             </td><td>-2.0                </td><td>-2.0               </td><td>-2.0                </td><td>-2.0               </td><td>-1.0                </td><td>-1.0                </td><td>0.0              </td><td>0.0              </td><td>0.0              </td><td>0.0              </td><td>13007.0          </td><td>13912.0          </td><td>0.0               </td><td>0.0               </td><td>0.0               </td><td>13007.0           </td><td>1122.0            </td><td>0.0              </td><td>0.0                </td></tr>\n",
              "</tbody>\n",
              "</table><pre style='font-size: smaller; margin-bottom: 1em;'>[30000 rows x 24 columns]</pre>"
            ]
          },
          "metadata": {}
        }
      ]
    },
    {
      "cell_type": "code",
      "source": [
        "df.shape"
      ],
      "metadata": {
        "colab": {
          "base_uri": "https://localhost:8080/"
        },
        "id": "IVHAIKdjOgJ2",
        "outputId": "a081e46b-ec10-454b-e5b4-2ad48d22fef4"
      },
      "execution_count": 12,
      "outputs": [
        {
          "output_type": "execute_result",
          "data": {
            "text/plain": [
              "(30000, 24)"
            ]
          },
          "metadata": {},
          "execution_count": 12
        }
      ]
    },
    {
      "cell_type": "markdown",
      "source": [
        "Splitting the dataframe with 30,000 rows and 24 columns into a training set df_train with 80% of the data (24,064 rows) and a test set df_test with 20% of the data (5,936 rows)."
      ],
      "metadata": {
        "id": "oYc6880dOjgO"
      }
    },
    {
      "cell_type": "code",
      "source": [
        "pct_rows=0.80\n",
        "df_train, df_test = df.split_frame([pct_rows])"
      ],
      "metadata": {
        "id": "vp8wIJruOhXG"
      },
      "execution_count": 13,
      "outputs": []
    },
    {
      "cell_type": "code",
      "source": [
        "print(df_train.shape)\n",
        "print(df_test.shape)"
      ],
      "metadata": {
        "colab": {
          "base_uri": "https://localhost:8080/"
        },
        "id": "x228dqgyOos6",
        "outputId": "79be5203-0ff7-40d3-fe3c-ea4d4c3f2085"
      },
      "execution_count": 14,
      "outputs": [
        {
          "output_type": "stream",
          "name": "stdout",
          "text": [
            "(23985, 24)\n",
            "(6015, 24)\n"
          ]
        }
      ]
    },
    {
      "cell_type": "markdown",
      "source": [
        "Displaying the first few rows of the training set."
      ],
      "metadata": {
        "id": "BN7VRoFFOump"
      }
    },
    {
      "cell_type": "code",
      "source": [
        "df_train.head()"
      ],
      "metadata": {
        "colab": {
          "base_uri": "https://localhost:8080/",
          "height": 409
        },
        "id": "1dZssmIYOvtf",
        "outputId": "4704fe4e-4ab4-4a9d-d55c-5bdd651d5874"
      },
      "execution_count": 15,
      "outputs": [
        {
          "output_type": "execute_result",
          "data": {
            "text/plain": [
              "  LIMIT_BAL    SEX    EDUCATION    MARRIAGE    AGE    PAY_0    PAY_2    PAY_3    PAY_4    PAY_5    PAY_6    BILL_AMT1    BILL_AMT2    BILL_AMT3    BILL_AMT4    BILL_AMT5    BILL_AMT6    PAY_AMT1    PAY_AMT2    PAY_AMT3    PAY_AMT4    PAY_AMT5    PAY_AMT6    def_pay\n",
              "-----------  -----  -----------  ----------  -----  -------  -------  -------  -------  -------  -------  -----------  -----------  -----------  -----------  -----------  -----------  ----------  ----------  ----------  ----------  ----------  ----------  ---------\n",
              "      20000      2            2           1     24        2        2       -1       -1       -2       -2         3913         3102          689            0            0            0           0         689           0           0           0           0          1\n",
              "     120000      2            2           2     26       -1        2        0        0        0        2         2682         1725         2682         3272         3455         3261           0        1000        1000        1000           0        2000          1\n",
              "      90000      2            2           2     34        0        0        0        0        0        0        29239        14027        13559        14331        14948        15549        1518        1500        1000        1000        1000        5000          0\n",
              "      50000      2            2           1     37        0        0        0        0        0        0        46990        48233        49291        28314        28959        29547        2000        2019        1200        1100        1069        1000          0\n",
              "      50000      1            2           1     57       -1        0       -1        0        0        0         8617         5670        35835        20940        19146        19131        2000       36681       10000        9000         689         679          0\n",
              "      50000      1            1           2     37        0        0        0        0        0        0        64400        57069        57608        19394        19619        20024        2500        1815         657        1000        1000         800          0\n",
              "     500000      1            1           2     29        0        0        0        0        0        0       367965       412023       445007       542653       483003       473944       55000       40000       38000       20239       13750       13770          0\n",
              "     100000      2            2           2     23        0       -1       -1        0        0       -1        11876          380          601          221         -159          567         380         601           0         581        1687        1542          0\n",
              "     140000      2            3           1     28        0        0        2        0        0        0        11285        14096        12108        12211        11793         3719        3329           0         432        1000        1000        1000          0\n",
              "     630000      2            2           2     41       -1        0       -1       -1       -1       -1        12137         6500         6500         6500         6500         2870        1000        6500        6500        6500        2870           0          0\n",
              "[10 rows x 24 columns]\n"
            ],
            "text/html": [
              "<table class='dataframe'>\n",
              "<thead>\n",
              "<tr><th style=\"text-align: right;\">  LIMIT_BAL</th><th style=\"text-align: right;\">  SEX</th><th style=\"text-align: right;\">  EDUCATION</th><th style=\"text-align: right;\">  MARRIAGE</th><th style=\"text-align: right;\">  AGE</th><th style=\"text-align: right;\">  PAY_0</th><th style=\"text-align: right;\">  PAY_2</th><th style=\"text-align: right;\">  PAY_3</th><th style=\"text-align: right;\">  PAY_4</th><th style=\"text-align: right;\">  PAY_5</th><th style=\"text-align: right;\">  PAY_6</th><th style=\"text-align: right;\">  BILL_AMT1</th><th style=\"text-align: right;\">  BILL_AMT2</th><th style=\"text-align: right;\">  BILL_AMT3</th><th style=\"text-align: right;\">  BILL_AMT4</th><th style=\"text-align: right;\">  BILL_AMT5</th><th style=\"text-align: right;\">  BILL_AMT6</th><th style=\"text-align: right;\">  PAY_AMT1</th><th style=\"text-align: right;\">  PAY_AMT2</th><th style=\"text-align: right;\">  PAY_AMT3</th><th style=\"text-align: right;\">  PAY_AMT4</th><th style=\"text-align: right;\">  PAY_AMT5</th><th style=\"text-align: right;\">  PAY_AMT6</th><th style=\"text-align: right;\">  def_pay</th></tr>\n",
              "</thead>\n",
              "<tbody>\n",
              "<tr><td style=\"text-align: right;\">      20000</td><td style=\"text-align: right;\">    2</td><td style=\"text-align: right;\">          2</td><td style=\"text-align: right;\">         1</td><td style=\"text-align: right;\">   24</td><td style=\"text-align: right;\">      2</td><td style=\"text-align: right;\">      2</td><td style=\"text-align: right;\">     -1</td><td style=\"text-align: right;\">     -1</td><td style=\"text-align: right;\">     -2</td><td style=\"text-align: right;\">     -2</td><td style=\"text-align: right;\">       3913</td><td style=\"text-align: right;\">       3102</td><td style=\"text-align: right;\">        689</td><td style=\"text-align: right;\">          0</td><td style=\"text-align: right;\">          0</td><td style=\"text-align: right;\">          0</td><td style=\"text-align: right;\">         0</td><td style=\"text-align: right;\">       689</td><td style=\"text-align: right;\">         0</td><td style=\"text-align: right;\">         0</td><td style=\"text-align: right;\">         0</td><td style=\"text-align: right;\">         0</td><td style=\"text-align: right;\">        1</td></tr>\n",
              "<tr><td style=\"text-align: right;\">     120000</td><td style=\"text-align: right;\">    2</td><td style=\"text-align: right;\">          2</td><td style=\"text-align: right;\">         2</td><td style=\"text-align: right;\">   26</td><td style=\"text-align: right;\">     -1</td><td style=\"text-align: right;\">      2</td><td style=\"text-align: right;\">      0</td><td style=\"text-align: right;\">      0</td><td style=\"text-align: right;\">      0</td><td style=\"text-align: right;\">      2</td><td style=\"text-align: right;\">       2682</td><td style=\"text-align: right;\">       1725</td><td style=\"text-align: right;\">       2682</td><td style=\"text-align: right;\">       3272</td><td style=\"text-align: right;\">       3455</td><td style=\"text-align: right;\">       3261</td><td style=\"text-align: right;\">         0</td><td style=\"text-align: right;\">      1000</td><td style=\"text-align: right;\">      1000</td><td style=\"text-align: right;\">      1000</td><td style=\"text-align: right;\">         0</td><td style=\"text-align: right;\">      2000</td><td style=\"text-align: right;\">        1</td></tr>\n",
              "<tr><td style=\"text-align: right;\">      90000</td><td style=\"text-align: right;\">    2</td><td style=\"text-align: right;\">          2</td><td style=\"text-align: right;\">         2</td><td style=\"text-align: right;\">   34</td><td style=\"text-align: right;\">      0</td><td style=\"text-align: right;\">      0</td><td style=\"text-align: right;\">      0</td><td style=\"text-align: right;\">      0</td><td style=\"text-align: right;\">      0</td><td style=\"text-align: right;\">      0</td><td style=\"text-align: right;\">      29239</td><td style=\"text-align: right;\">      14027</td><td style=\"text-align: right;\">      13559</td><td style=\"text-align: right;\">      14331</td><td style=\"text-align: right;\">      14948</td><td style=\"text-align: right;\">      15549</td><td style=\"text-align: right;\">      1518</td><td style=\"text-align: right;\">      1500</td><td style=\"text-align: right;\">      1000</td><td style=\"text-align: right;\">      1000</td><td style=\"text-align: right;\">      1000</td><td style=\"text-align: right;\">      5000</td><td style=\"text-align: right;\">        0</td></tr>\n",
              "<tr><td style=\"text-align: right;\">      50000</td><td style=\"text-align: right;\">    2</td><td style=\"text-align: right;\">          2</td><td style=\"text-align: right;\">         1</td><td style=\"text-align: right;\">   37</td><td style=\"text-align: right;\">      0</td><td style=\"text-align: right;\">      0</td><td style=\"text-align: right;\">      0</td><td style=\"text-align: right;\">      0</td><td style=\"text-align: right;\">      0</td><td style=\"text-align: right;\">      0</td><td style=\"text-align: right;\">      46990</td><td style=\"text-align: right;\">      48233</td><td style=\"text-align: right;\">      49291</td><td style=\"text-align: right;\">      28314</td><td style=\"text-align: right;\">      28959</td><td style=\"text-align: right;\">      29547</td><td style=\"text-align: right;\">      2000</td><td style=\"text-align: right;\">      2019</td><td style=\"text-align: right;\">      1200</td><td style=\"text-align: right;\">      1100</td><td style=\"text-align: right;\">      1069</td><td style=\"text-align: right;\">      1000</td><td style=\"text-align: right;\">        0</td></tr>\n",
              "<tr><td style=\"text-align: right;\">      50000</td><td style=\"text-align: right;\">    1</td><td style=\"text-align: right;\">          2</td><td style=\"text-align: right;\">         1</td><td style=\"text-align: right;\">   57</td><td style=\"text-align: right;\">     -1</td><td style=\"text-align: right;\">      0</td><td style=\"text-align: right;\">     -1</td><td style=\"text-align: right;\">      0</td><td style=\"text-align: right;\">      0</td><td style=\"text-align: right;\">      0</td><td style=\"text-align: right;\">       8617</td><td style=\"text-align: right;\">       5670</td><td style=\"text-align: right;\">      35835</td><td style=\"text-align: right;\">      20940</td><td style=\"text-align: right;\">      19146</td><td style=\"text-align: right;\">      19131</td><td style=\"text-align: right;\">      2000</td><td style=\"text-align: right;\">     36681</td><td style=\"text-align: right;\">     10000</td><td style=\"text-align: right;\">      9000</td><td style=\"text-align: right;\">       689</td><td style=\"text-align: right;\">       679</td><td style=\"text-align: right;\">        0</td></tr>\n",
              "<tr><td style=\"text-align: right;\">      50000</td><td style=\"text-align: right;\">    1</td><td style=\"text-align: right;\">          1</td><td style=\"text-align: right;\">         2</td><td style=\"text-align: right;\">   37</td><td style=\"text-align: right;\">      0</td><td style=\"text-align: right;\">      0</td><td style=\"text-align: right;\">      0</td><td style=\"text-align: right;\">      0</td><td style=\"text-align: right;\">      0</td><td style=\"text-align: right;\">      0</td><td style=\"text-align: right;\">      64400</td><td style=\"text-align: right;\">      57069</td><td style=\"text-align: right;\">      57608</td><td style=\"text-align: right;\">      19394</td><td style=\"text-align: right;\">      19619</td><td style=\"text-align: right;\">      20024</td><td style=\"text-align: right;\">      2500</td><td style=\"text-align: right;\">      1815</td><td style=\"text-align: right;\">       657</td><td style=\"text-align: right;\">      1000</td><td style=\"text-align: right;\">      1000</td><td style=\"text-align: right;\">       800</td><td style=\"text-align: right;\">        0</td></tr>\n",
              "<tr><td style=\"text-align: right;\">     500000</td><td style=\"text-align: right;\">    1</td><td style=\"text-align: right;\">          1</td><td style=\"text-align: right;\">         2</td><td style=\"text-align: right;\">   29</td><td style=\"text-align: right;\">      0</td><td style=\"text-align: right;\">      0</td><td style=\"text-align: right;\">      0</td><td style=\"text-align: right;\">      0</td><td style=\"text-align: right;\">      0</td><td style=\"text-align: right;\">      0</td><td style=\"text-align: right;\">     367965</td><td style=\"text-align: right;\">     412023</td><td style=\"text-align: right;\">     445007</td><td style=\"text-align: right;\">     542653</td><td style=\"text-align: right;\">     483003</td><td style=\"text-align: right;\">     473944</td><td style=\"text-align: right;\">     55000</td><td style=\"text-align: right;\">     40000</td><td style=\"text-align: right;\">     38000</td><td style=\"text-align: right;\">     20239</td><td style=\"text-align: right;\">     13750</td><td style=\"text-align: right;\">     13770</td><td style=\"text-align: right;\">        0</td></tr>\n",
              "<tr><td style=\"text-align: right;\">     100000</td><td style=\"text-align: right;\">    2</td><td style=\"text-align: right;\">          2</td><td style=\"text-align: right;\">         2</td><td style=\"text-align: right;\">   23</td><td style=\"text-align: right;\">      0</td><td style=\"text-align: right;\">     -1</td><td style=\"text-align: right;\">     -1</td><td style=\"text-align: right;\">      0</td><td style=\"text-align: right;\">      0</td><td style=\"text-align: right;\">     -1</td><td style=\"text-align: right;\">      11876</td><td style=\"text-align: right;\">        380</td><td style=\"text-align: right;\">        601</td><td style=\"text-align: right;\">        221</td><td style=\"text-align: right;\">       -159</td><td style=\"text-align: right;\">        567</td><td style=\"text-align: right;\">       380</td><td style=\"text-align: right;\">       601</td><td style=\"text-align: right;\">         0</td><td style=\"text-align: right;\">       581</td><td style=\"text-align: right;\">      1687</td><td style=\"text-align: right;\">      1542</td><td style=\"text-align: right;\">        0</td></tr>\n",
              "<tr><td style=\"text-align: right;\">     140000</td><td style=\"text-align: right;\">    2</td><td style=\"text-align: right;\">          3</td><td style=\"text-align: right;\">         1</td><td style=\"text-align: right;\">   28</td><td style=\"text-align: right;\">      0</td><td style=\"text-align: right;\">      0</td><td style=\"text-align: right;\">      2</td><td style=\"text-align: right;\">      0</td><td style=\"text-align: right;\">      0</td><td style=\"text-align: right;\">      0</td><td style=\"text-align: right;\">      11285</td><td style=\"text-align: right;\">      14096</td><td style=\"text-align: right;\">      12108</td><td style=\"text-align: right;\">      12211</td><td style=\"text-align: right;\">      11793</td><td style=\"text-align: right;\">       3719</td><td style=\"text-align: right;\">      3329</td><td style=\"text-align: right;\">         0</td><td style=\"text-align: right;\">       432</td><td style=\"text-align: right;\">      1000</td><td style=\"text-align: right;\">      1000</td><td style=\"text-align: right;\">      1000</td><td style=\"text-align: right;\">        0</td></tr>\n",
              "<tr><td style=\"text-align: right;\">     630000</td><td style=\"text-align: right;\">    2</td><td style=\"text-align: right;\">          2</td><td style=\"text-align: right;\">         2</td><td style=\"text-align: right;\">   41</td><td style=\"text-align: right;\">     -1</td><td style=\"text-align: right;\">      0</td><td style=\"text-align: right;\">     -1</td><td style=\"text-align: right;\">     -1</td><td style=\"text-align: right;\">     -1</td><td style=\"text-align: right;\">     -1</td><td style=\"text-align: right;\">      12137</td><td style=\"text-align: right;\">       6500</td><td style=\"text-align: right;\">       6500</td><td style=\"text-align: right;\">       6500</td><td style=\"text-align: right;\">       6500</td><td style=\"text-align: right;\">       2870</td><td style=\"text-align: right;\">      1000</td><td style=\"text-align: right;\">      6500</td><td style=\"text-align: right;\">      6500</td><td style=\"text-align: right;\">      6500</td><td style=\"text-align: right;\">      2870</td><td style=\"text-align: right;\">         0</td><td style=\"text-align: right;\">        0</td></tr>\n",
              "</tbody>\n",
              "</table><pre style='font-size: smaller; margin-bottom: 1em;'>[10 rows x 24 columns]</pre>"
            ]
          },
          "metadata": {},
          "execution_count": 15
        }
      ]
    },
    {
      "cell_type": "markdown",
      "source": [
        "#Train Models Using H2O's AutoML"
      ],
      "metadata": {
        "id": "0blxKr69O2jB"
      }
    },
    {
      "cell_type": "markdown",
      "source": [
        "Setting the features and target"
      ],
      "metadata": {
        "id": "Vc1nnZkLO6y_"
      }
    },
    {
      "cell_type": "code",
      "source": [
        "X=df.columns\n",
        "print(X)"
      ],
      "metadata": {
        "colab": {
          "base_uri": "https://localhost:8080/"
        },
        "id": "fPP_OKGKO33M",
        "outputId": "013381fb-ac53-4337-c228-62ef23caf808"
      },
      "execution_count": 16,
      "outputs": [
        {
          "output_type": "stream",
          "name": "stdout",
          "text": [
            "['LIMIT_BAL', 'SEX', 'EDUCATION', 'MARRIAGE', 'AGE', 'PAY_0', 'PAY_2', 'PAY_3', 'PAY_4', 'PAY_5', 'PAY_6', 'BILL_AMT1', 'BILL_AMT2', 'BILL_AMT3', 'BILL_AMT4', 'BILL_AMT5', 'BILL_AMT6', 'PAY_AMT1', 'PAY_AMT2', 'PAY_AMT3', 'PAY_AMT4', 'PAY_AMT5', 'PAY_AMT6', 'def_pay']\n"
          ]
        }
      ]
    },
    {
      "cell_type": "markdown",
      "source": [
        "Setting target and predictor variables as y and x respectively"
      ],
      "metadata": {
        "id": "UJF9k3SaPAmz"
      }
    },
    {
      "cell_type": "code",
      "source": [
        "y ='def_pay'\n",
        "\n",
        "X.remove(y)\n",
        "\n",
        "print(X)"
      ],
      "metadata": {
        "colab": {
          "base_uri": "https://localhost:8080/"
        },
        "id": "poqs4qFDO-gx",
        "outputId": "a91f379f-b20a-494c-b4ef-f381ac7a9cc9"
      },
      "execution_count": 17,
      "outputs": [
        {
          "output_type": "stream",
          "name": "stdout",
          "text": [
            "['LIMIT_BAL', 'SEX', 'EDUCATION', 'MARRIAGE', 'AGE', 'PAY_0', 'PAY_2', 'PAY_3', 'PAY_4', 'PAY_5', 'PAY_6', 'BILL_AMT1', 'BILL_AMT2', 'BILL_AMT3', 'BILL_AMT4', 'BILL_AMT5', 'BILL_AMT6', 'PAY_AMT1', 'PAY_AMT2', 'PAY_AMT3', 'PAY_AMT4', 'PAY_AMT5', 'PAY_AMT6']\n"
          ]
        }
      ]
    },
    {
      "cell_type": "markdown",
      "source": [
        "Setting up AutoML"
      ],
      "metadata": {
        "id": "wuHVvz9kPH4f"
      }
    },
    {
      "cell_type": "markdown",
      "source": [
        "H20 AutoML will automatically perform regression or classification depedending on the target data type."
      ],
      "metadata": {
        "id": "dFc9PZMOPJK0"
      }
    },
    {
      "cell_type": "markdown",
      "source": [
        "Utilizing H2O's AutoML to train a machine learning model. Setting a maximum runtime of 222 seconds for the training process and using a seed of 1 for reproducibility. The model is trained using features X and target variable y on the training data stored in df_train."
      ],
      "metadata": {
        "id": "niz85xSjPP1z"
      }
    },
    {
      "cell_type": "code",
      "source": [
        "aml = H2OAutoML(max_runtime_secs=run_time, seed=1)"
      ],
      "metadata": {
        "id": "j17oDJwZPUDu"
      },
      "execution_count": 18,
      "outputs": []
    },
    {
      "cell_type": "code",
      "source": [
        "aml.train(x=X,y=y,training_frame=df_train)"
      ],
      "metadata": {
        "colab": {
          "base_uri": "https://localhost:8080/",
          "height": 1000
        },
        "id": "GcUekg2_PVn1",
        "outputId": "2a9a5e6f-01f6-4fef-adb8-12c654dcc77a"
      },
      "execution_count": 19,
      "outputs": [
        {
          "output_type": "stream",
          "name": "stdout",
          "text": [
            "AutoML progress: |\n",
            "23:49:11.472: _response param, We have detected that your response column has only 2 unique values (0/1). If you wish to train a binary model instead of a regression model, convert your target column to categorical before training.\n",
            "\n",
            "█████████\n",
            "23:49:41.731: _response param, We have detected that your response column has only 2 unique values (0/1). If you wish to train a binary model instead of a regression model, convert your target column to categorical before training.\n",
            "\n",
            "██\n",
            "23:49:49.349: _response param, We have detected that your response column has only 2 unique values (0/1). If you wish to train a binary model instead of a regression model, convert your target column to categorical before training.\n",
            "\n",
            "████████\n",
            "23:50:18.60: _response param, We have detected that your response column has only 2 unique values (0/1). If you wish to train a binary model instead of a regression model, convert your target column to categorical before training.\n",
            "23:50:19.128: _response param, We have detected that your response column has only 2 unique values (0/1). If you wish to train a binary model instead of a regression model, convert your target column to categorical before training.\n",
            "\n",
            "██████\n",
            "23:50:39.539: _response param, We have detected that your response column has only 2 unique values (0/1). If you wish to train a binary model instead of a regression model, convert your target column to categorical before training.\n",
            "\n",
            "███████\n",
            "23:51:02.691: _response param, We have detected that your response column has only 2 unique values (0/1). If you wish to train a binary model instead of a regression model, convert your target column to categorical before training.\n",
            "\n",
            "███\n",
            "23:51:14.588: _response param, We have detected that your response column has only 2 unique values (0/1). If you wish to train a binary model instead of a regression model, convert your target column to categorical before training.\n",
            "\n",
            "███\n",
            "23:51:27.148: _response param, We have detected that your response column has only 2 unique values (0/1). If you wish to train a binary model instead of a regression model, convert your target column to categorical before training.\n",
            "\n",
            "████\n",
            "23:51:41.421: _response param, We have detected that your response column has only 2 unique values (0/1). If you wish to train a binary model instead of a regression model, convert your target column to categorical before training.\n",
            "\n",
            "█\n",
            "23:51:42.135: _response param, We have detected that your response column has only 2 unique values (0/1). If you wish to train a binary model instead of a regression model, convert your target column to categorical before training.\n",
            "\n",
            "\n",
            "23:51:43.509: _response param, We have detected that your response column has only 2 unique values (0/1). If you wish to train a binary model instead of a regression model, convert your target column to categorical before training.\n",
            "\n",
            "███\n",
            "23:51:53.5: _response param, We have detected that your response column has only 2 unique values (0/1). If you wish to train a binary model instead of a regression model, convert your target column to categorical before training.\n",
            "\n",
            "███\n",
            "23:52:06.121: _response param, We have detected that your response column has only 2 unique values (0/1). If you wish to train a binary model instead of a regression model, convert your target column to categorical before training.\n",
            "\n",
            "███\n",
            "23:52:16.467: _response param, We have detected that your response column has only 2 unique values (0/1). If you wish to train a binary model instead of a regression model, convert your target column to categorical before training.\n",
            "\n",
            "████\n",
            "23:52:28.769: _response param, We have detected that your response column has only 2 unique values (0/1). If you wish to train a binary model instead of a regression model, convert your target column to categorical before training.\n",
            "23:52:29.451: _response param, We have detected that your response column has only 2 unique values (0/1). If you wish to train a binary model instead of a regression model, convert your target column to categorical before training.\n",
            "\n",
            "███████| (done) 100%\n"
          ]
        },
        {
          "output_type": "execute_result",
          "data": {
            "text/plain": [
              "Model Details\n",
              "=============\n",
              "H2OStackedEnsembleEstimator : Stacked Ensemble\n",
              "Model Key: StackedEnsemble_AllModels_2_AutoML_1_20240219_234911\n",
              "\n",
              "\n",
              "Model Summary for Stacked Ensemble: \n",
              "key                                        value\n",
              "-----------------------------------------  ----------------\n",
              "Stacking strategy                          cross_validation\n",
              "Number of base models (used / total)       9/12\n",
              "# GBM base models (used / total)           5/5\n",
              "# XGBoost base models (used / total)       2/3\n",
              "# DeepLearning base models (used / total)  1/1\n",
              "# DRF base models (used / total)           1/2\n",
              "# GLM base models (used / total)           0/1\n",
              "Metalearner algorithm                      GLM\n",
              "Metalearner fold assignment scheme         Random\n",
              "Metalearner nfolds                         5\n",
              "Metalearner fold_column\n",
              "Custom metalearner hyperparameters         None\n",
              "\n",
              "ModelMetricsRegressionGLM: stackedensemble\n",
              "** Reported on train data. **\n",
              "\n",
              "MSE: 0.11556221436873493\n",
              "RMSE: 0.33994442835371624\n",
              "MAE: 0.2511979077323026\n",
              "RMSLE: 0.2375644165127871\n",
              "Mean Residual Deviance: 0.11556221436873493\n",
              "R^2: 0.3286079670096119\n",
              "Null degrees of freedom: 10020\n",
              "Residual degrees of freedom: 10011\n",
              "Null deviance: 1724.8476795651732\n",
              "Residual deviance: 1158.0489501890927\n",
              "AIC: 6835.586796433232\n",
              "\n",
              "ModelMetricsRegressionGLM: stackedensemble\n",
              "** Reported on cross-validation data. **\n",
              "\n",
              "MSE: 0.1342886996686547\n",
              "RMSE: 0.3664542258845635\n",
              "MAE: 0.2685403432323\n",
              "RMSLE: 0.25682130049914287\n",
              "Mean Residual Deviance: 0.1342886996686547\n",
              "R^2: 0.22000601914661289\n",
              "Null degrees of freedom: 23984\n",
              "Residual degrees of freedom: 23976\n",
              "Null deviance: 4129.979639715388\n",
              "Residual deviance: 3220.914461552683\n",
              "AIC: 19930.278172959504\n",
              "\n",
              "Cross-Validation Metrics Summary: \n",
              "                        mean      sd          cv_1_valid    cv_2_valid    cv_3_valid    cv_4_valid    cv_5_valid\n",
              "----------------------  --------  ----------  ------------  ------------  ------------  ------------  ------------\n",
              "mae                     0.268512  0.00139977  0.269396      0.269337      0.266375      0.269653      0.2678\n",
              "mean_residual_deviance  0.134294  0.00129537  0.134894      0.134775      0.132025      0.135252      0.134524\n",
              "mse                     0.134294  0.00129537  0.134894      0.134775      0.132025      0.135252      0.134524\n",
              "null_deviance           825.996   17.1238     819.525       818.066       805.039       845.064       842.286\n",
              "r2                      0.219616  0.0132813   0.205169      0.22252       0.206282      0.231281      0.232828\n",
              "residual_deviance       644.189   6.72972     651.27        636.004       638.341       649.346       645.987\n",
              "rmse                    0.366458  0.00177258  0.36728       0.367117      0.363352      0.367766      0.366776\n",
              "rmsle                   0.256821  0.00114539  0.258564      0.256951      0.255755      0.257023      0.255813\n",
              "\n",
              "[tips]\n",
              "Use `model.explain()` to inspect the model.\n",
              "--\n",
              "Use `h2o.display.toggle_user_tips()` to switch on/off this section."
            ],
            "text/html": [
              "<pre style='margin: 1em 0 1em 0;'>Model Details\n",
              "=============\n",
              "H2OStackedEnsembleEstimator : Stacked Ensemble\n",
              "Model Key: StackedEnsemble_AllModels_2_AutoML_1_20240219_234911\n",
              "</pre>\n",
              "<div style='margin: 1em 0 1em 0;'>\n",
              "<style>\n",
              "\n",
              "#h2o-table-2.h2o-container {\n",
              "  overflow-x: auto;\n",
              "}\n",
              "#h2o-table-2 .h2o-table {\n",
              "  /* width: 100%; */\n",
              "  margin-top: 1em;\n",
              "  margin-bottom: 1em;\n",
              "}\n",
              "#h2o-table-2 .h2o-table caption {\n",
              "  white-space: nowrap;\n",
              "  caption-side: top;\n",
              "  text-align: left;\n",
              "  /* margin-left: 1em; */\n",
              "  margin: 0;\n",
              "  font-size: larger;\n",
              "}\n",
              "#h2o-table-2 .h2o-table thead {\n",
              "  white-space: nowrap; \n",
              "  position: sticky;\n",
              "  top: 0;\n",
              "  box-shadow: 0 -1px inset;\n",
              "}\n",
              "#h2o-table-2 .h2o-table tbody {\n",
              "  overflow: auto;\n",
              "}\n",
              "#h2o-table-2 .h2o-table th,\n",
              "#h2o-table-2 .h2o-table td {\n",
              "  text-align: right;\n",
              "  /* border: 1px solid; */\n",
              "}\n",
              "#h2o-table-2 .h2o-table tr:nth-child(even) {\n",
              "  /* background: #F5F5F5 */\n",
              "}\n",
              "\n",
              "</style>      \n",
              "<div id=\"h2o-table-2\" class=\"h2o-container\">\n",
              "  <table class=\"h2o-table\">\n",
              "    <caption>Model Summary for Stacked Ensemble: </caption>\n",
              "    <thead><tr><th>key</th>\n",
              "<th>value</th></tr></thead>\n",
              "    <tbody><tr><td>Stacking strategy</td>\n",
              "<td>cross_validation</td></tr>\n",
              "<tr><td>Number of base models (used / total)</td>\n",
              "<td>9/12</td></tr>\n",
              "<tr><td># GBM base models (used / total)</td>\n",
              "<td>5/5</td></tr>\n",
              "<tr><td># XGBoost base models (used / total)</td>\n",
              "<td>2/3</td></tr>\n",
              "<tr><td># DeepLearning base models (used / total)</td>\n",
              "<td>1/1</td></tr>\n",
              "<tr><td># DRF base models (used / total)</td>\n",
              "<td>1/2</td></tr>\n",
              "<tr><td># GLM base models (used / total)</td>\n",
              "<td>0/1</td></tr>\n",
              "<tr><td>Metalearner algorithm</td>\n",
              "<td>GLM</td></tr>\n",
              "<tr><td>Metalearner fold assignment scheme</td>\n",
              "<td>Random</td></tr>\n",
              "<tr><td>Metalearner nfolds</td>\n",
              "<td>5</td></tr>\n",
              "<tr><td>Metalearner fold_column</td>\n",
              "<td>None</td></tr>\n",
              "<tr><td>Custom metalearner hyperparameters</td>\n",
              "<td>None</td></tr></tbody>\n",
              "  </table>\n",
              "</div>\n",
              "</div>\n",
              "<div style='margin: 1em 0 1em 0;'><pre style='margin: 1em 0 1em 0;'>ModelMetricsRegressionGLM: stackedensemble\n",
              "** Reported on train data. **\n",
              "\n",
              "MSE: 0.11556221436873493\n",
              "RMSE: 0.33994442835371624\n",
              "MAE: 0.2511979077323026\n",
              "RMSLE: 0.2375644165127871\n",
              "Mean Residual Deviance: 0.11556221436873493\n",
              "R^2: 0.3286079670096119\n",
              "Null degrees of freedom: 10020\n",
              "Residual degrees of freedom: 10011\n",
              "Null deviance: 1724.8476795651732\n",
              "Residual deviance: 1158.0489501890927\n",
              "AIC: 6835.586796433232</pre></div>\n",
              "<div style='margin: 1em 0 1em 0;'><pre style='margin: 1em 0 1em 0;'>ModelMetricsRegressionGLM: stackedensemble\n",
              "** Reported on cross-validation data. **\n",
              "\n",
              "MSE: 0.1342886996686547\n",
              "RMSE: 0.3664542258845635\n",
              "MAE: 0.2685403432323\n",
              "RMSLE: 0.25682130049914287\n",
              "Mean Residual Deviance: 0.1342886996686547\n",
              "R^2: 0.22000601914661289\n",
              "Null degrees of freedom: 23984\n",
              "Residual degrees of freedom: 23976\n",
              "Null deviance: 4129.979639715388\n",
              "Residual deviance: 3220.914461552683\n",
              "AIC: 19930.278172959504</pre></div>\n",
              "<div style='margin: 1em 0 1em 0;'>\n",
              "<style>\n",
              "\n",
              "#h2o-table-3.h2o-container {\n",
              "  overflow-x: auto;\n",
              "}\n",
              "#h2o-table-3 .h2o-table {\n",
              "  /* width: 100%; */\n",
              "  margin-top: 1em;\n",
              "  margin-bottom: 1em;\n",
              "}\n",
              "#h2o-table-3 .h2o-table caption {\n",
              "  white-space: nowrap;\n",
              "  caption-side: top;\n",
              "  text-align: left;\n",
              "  /* margin-left: 1em; */\n",
              "  margin: 0;\n",
              "  font-size: larger;\n",
              "}\n",
              "#h2o-table-3 .h2o-table thead {\n",
              "  white-space: nowrap; \n",
              "  position: sticky;\n",
              "  top: 0;\n",
              "  box-shadow: 0 -1px inset;\n",
              "}\n",
              "#h2o-table-3 .h2o-table tbody {\n",
              "  overflow: auto;\n",
              "}\n",
              "#h2o-table-3 .h2o-table th,\n",
              "#h2o-table-3 .h2o-table td {\n",
              "  text-align: right;\n",
              "  /* border: 1px solid; */\n",
              "}\n",
              "#h2o-table-3 .h2o-table tr:nth-child(even) {\n",
              "  /* background: #F5F5F5 */\n",
              "}\n",
              "\n",
              "</style>      \n",
              "<div id=\"h2o-table-3\" class=\"h2o-container\">\n",
              "  <table class=\"h2o-table\">\n",
              "    <caption>Cross-Validation Metrics Summary: </caption>\n",
              "    <thead><tr><th></th>\n",
              "<th>mean</th>\n",
              "<th>sd</th>\n",
              "<th>cv_1_valid</th>\n",
              "<th>cv_2_valid</th>\n",
              "<th>cv_3_valid</th>\n",
              "<th>cv_4_valid</th>\n",
              "<th>cv_5_valid</th></tr></thead>\n",
              "    <tbody><tr><td>mae</td>\n",
              "<td>0.2685121</td>\n",
              "<td>0.0013998</td>\n",
              "<td>0.2693960</td>\n",
              "<td>0.2693366</td>\n",
              "<td>0.2663752</td>\n",
              "<td>0.2696533</td>\n",
              "<td>0.2677995</td></tr>\n",
              "<tr><td>mean_residual_deviance</td>\n",
              "<td>0.1342942</td>\n",
              "<td>0.0012954</td>\n",
              "<td>0.1348943</td>\n",
              "<td>0.1347752</td>\n",
              "<td>0.1320249</td>\n",
              "<td>0.1352522</td>\n",
              "<td>0.1345245</td></tr>\n",
              "<tr><td>mse</td>\n",
              "<td>0.1342942</td>\n",
              "<td>0.0012954</td>\n",
              "<td>0.1348943</td>\n",
              "<td>0.1347752</td>\n",
              "<td>0.1320249</td>\n",
              "<td>0.1352522</td>\n",
              "<td>0.1345245</td></tr>\n",
              "<tr><td>null_deviance</td>\n",
              "<td>825.9959</td>\n",
              "<td>17.123781</td>\n",
              "<td>819.525</td>\n",
              "<td>818.06616</td>\n",
              "<td>805.0389</td>\n",
              "<td>845.06384</td>\n",
              "<td>842.2857</td></tr>\n",
              "<tr><td>r2</td>\n",
              "<td>0.2196158</td>\n",
              "<td>0.0132813</td>\n",
              "<td>0.2051687</td>\n",
              "<td>0.2225201</td>\n",
              "<td>0.2062818</td>\n",
              "<td>0.2312806</td>\n",
              "<td>0.2328278</td></tr>\n",
              "<tr><td>residual_deviance</td>\n",
              "<td>644.1894</td>\n",
              "<td>6.729723</td>\n",
              "<td>651.2698</td>\n",
              "<td>636.0042</td>\n",
              "<td>638.3405</td>\n",
              "<td>649.34576</td>\n",
              "<td>645.98663</td></tr>\n",
              "<tr><td>rmse</td>\n",
              "<td>0.3664583</td>\n",
              "<td>0.0017726</td>\n",
              "<td>0.3672796</td>\n",
              "<td>0.3671174</td>\n",
              "<td>0.3633523</td>\n",
              "<td>0.3677665</td>\n",
              "<td>0.3667758</td></tr>\n",
              "<tr><td>rmsle</td>\n",
              "<td>0.2568212</td>\n",
              "<td>0.0011454</td>\n",
              "<td>0.2585638</td>\n",
              "<td>0.256951</td>\n",
              "<td>0.2557551</td>\n",
              "<td>0.2570234</td>\n",
              "<td>0.2558129</td></tr></tbody>\n",
              "  </table>\n",
              "</div>\n",
              "</div><pre style=\"font-size: smaller; margin: 1em 0 0 0;\">\n",
              "\n",
              "[tips]\n",
              "Use `model.explain()` to inspect the model.\n",
              "--\n",
              "Use `h2o.display.toggle_user_tips()` to switch on/off this section.</pre>"
            ]
          },
          "metadata": {},
          "execution_count": 19
        }
      ]
    },
    {
      "cell_type": "code",
      "source": [
        "print(aml.leaderboard)"
      ],
      "metadata": {
        "colab": {
          "base_uri": "https://localhost:8080/"
        },
        "id": "ZUisVsULP3_m",
        "outputId": "18b5fe25-8274-4e33-b6e1-fde19e8e3343"
      },
      "execution_count": 20,
      "outputs": [
        {
          "output_type": "stream",
          "name": "stdout",
          "text": [
            "model_id                                                     rmse       mse       mae     rmsle    mean_residual_deviance\n",
            "StackedEnsemble_AllModels_2_AutoML_1_20240219_234911     0.366454  0.134289  0.26854   0.256821                  0.134289\n",
            "StackedEnsemble_BestOfFamily_3_AutoML_1_20240219_234911  0.366672  0.134448  0.268867  0.25694                   0.134448\n",
            "StackedEnsemble_AllModels_1_AutoML_1_20240219_234911     0.366957  0.134657  0.269297  0.257195                  0.134657\n",
            "GBM_5_AutoML_1_20240219_234911                           0.367374  0.134963  0.270353  0.257339                  0.134963\n",
            "StackedEnsemble_BestOfFamily_2_AutoML_1_20240219_234911  0.367377  0.134966  0.270065  0.257681                  0.134966\n",
            "StackedEnsemble_BestOfFamily_1_AutoML_1_20240219_234911  0.367427  0.135002  0.27018   0.25774                   0.135002\n",
            "GBM_1_AutoML_1_20240219_234911                           0.367463  0.135029  0.270867  0.257818                  0.135029\n",
            "GBM_2_AutoML_1_20240219_234911                           0.368088  0.135489  0.270859  0.257898                  0.135489\n",
            "GBM_3_AutoML_1_20240219_234911                           0.36849   0.135785  0.271717  0.258118                  0.135785\n",
            "XGBoost_3_AutoML_1_20240219_234911                       0.369821  0.136768  0.268032  0.259776                  0.136768\n",
            "[20 rows x 6 columns]\n",
            "\n"
          ]
        }
      ]
    },
    {
      "cell_type": "markdown",
      "source": [
        "# RMSE comparison and understanding the leader board"
      ],
      "metadata": {
        "id": "PT_rJ-OoUbI1"
      }
    },
    {
      "cell_type": "markdown",
      "source": [
        "After running for just under four minutes, the best models achieved an impressive Root Mean Square Error (RMSE) of approximately 0.005, which is notably better than the 0.010 RMSE obtained with a simple Multi-Layer Perceptron (MLP) in the previous notebook and only about a quarter of the 0.017 RMSE achieved with a simple MLP using the same independent variables.\n",
        "\n",
        "However, it's important to note that when we run the analysis for a relatively short time, particularly under 10 minutes, the leaderboard tends to favor tree-based methods because deep learning models require more time to converge. As a result, deep learning models may not appear among the top 500 models when the runtime is limited to less than 5 minutes.\n",
        "\n",
        "Despite this, it is still valuable to plot and analyze the results. Moreover, one significant advantage of these models is their model interpretability, which allows us to gain insights into how the models are making predictions and understand the importance of different features."
      ],
      "metadata": {
        "id": "EDIzwuC9Uv65"
      }
    },
    {
      "cell_type": "code",
      "source": [
        "# Initializing variables for model and GLM (Generalized Linear Model) indices, as well as an empty string for GLM model.\n",
        "model_index=0\n",
        "glm_index=0\n",
        "glm_model=''\n",
        "\n",
        "# Converting the AutoML leaderboard into a DataFrame and initializing a dictionary to store model indices.\n",
        "aml_leaderboard_df=aml.leaderboard.as_data_frame()\n",
        "models_dict={}\n",
        "\n",
        "# Iterating through the model IDs in the leaderboard DataFrame.\n",
        "for m in aml_leaderboard_df['model_id']:\n",
        "  # Assigning the current model's index to the dictionary.\n",
        "  models_dict[m]=model_index\n",
        "\n",
        "  # Checking if the current model is not a StackedEnsemble model.\n",
        "  if 'StackedEnsemble' not in m:\n",
        "    # Exiting the loop if it's not a StackedEnsemble model.\n",
        "    break\n",
        "\n",
        "  # Incrementing the model index.\n",
        "  model_index=model_index+1\n",
        "\n",
        "# Iterating through the model IDs again.\n",
        "for m in aml_leaderboard_df['model_id']:\n",
        "  # Checking if the current model is a GLM (Generalized Linear Model).\n",
        "  if 'GLM' in m:\n",
        "    # Assigning the current GLM model's index to the dictionary.\n",
        "    models_dict[m]=glm_index\n",
        "\n",
        "    # Exiting the loop after assigning the GLM model index.\n",
        "    break\n",
        "\n",
        "  # Incrementing the GLM index.\n",
        "  glm_index=glm_index+1\n",
        "\n",
        "# Displaying the models dictionary containing model IDs and their respective indices.\n",
        "models_dict\n"
      ],
      "metadata": {
        "colab": {
          "base_uri": "https://localhost:8080/"
        },
        "id": "rYuZvmefUWwl",
        "outputId": "e1e93a8b-33c7-4eb5-bd44-a3517b2c28b4"
      },
      "execution_count": 21,
      "outputs": [
        {
          "output_type": "stream",
          "name": "stdout",
          "text": [
            "Export File progress: |██████████████████████████████████████████████████████████| (done) 100%\n"
          ]
        },
        {
          "output_type": "execute_result",
          "data": {
            "text/plain": [
              "{'StackedEnsemble_AllModels_2_AutoML_1_20240219_234911': 0,\n",
              " 'StackedEnsemble_BestOfFamily_3_AutoML_1_20240219_234911': 1,\n",
              " 'StackedEnsemble_AllModels_1_AutoML_1_20240219_234911': 2,\n",
              " 'GBM_5_AutoML_1_20240219_234911': 3,\n",
              " 'GLM_1_AutoML_1_20240219_234911': 16}"
            ]
          },
          "metadata": {},
          "execution_count": 21
        }
      ]
    },
    {
      "cell_type": "code",
      "source": [],
      "metadata": {
        "id": "iTt4tVMMxCLe"
      },
      "execution_count": 21,
      "outputs": []
    },
    {
      "cell_type": "markdown",
      "source": [
        "Examining the Best Model"
      ],
      "metadata": {
        "id": "wd8fMWhoU4Ow"
      }
    },
    {
      "cell_type": "code",
      "source": [
        "print(model_index)\n",
        "best_model = h2o.get_model(aml.leaderboard[model_index,'model_id'])"
      ],
      "metadata": {
        "colab": {
          "base_uri": "https://localhost:8080/"
        },
        "id": "OWe8XWGbU684",
        "outputId": "9a509c02-37cb-493f-82fa-03259a577ec8"
      },
      "execution_count": 22,
      "outputs": [
        {
          "output_type": "stream",
          "name": "stdout",
          "text": [
            "3\n"
          ]
        }
      ]
    },
    {
      "cell_type": "code",
      "source": [
        "best_model.algo"
      ],
      "metadata": {
        "colab": {
          "base_uri": "https://localhost:8080/",
          "height": 35
        },
        "id": "YHVC8EIEU_ja",
        "outputId": "86fc8a29-edc2-438c-8e63-999c69048fbd"
      },
      "execution_count": 23,
      "outputs": [
        {
          "output_type": "execute_result",
          "data": {
            "text/plain": [
              "'gbm'"
            ],
            "application/vnd.google.colaboratory.intrinsic+json": {
              "type": "string"
            }
          },
          "metadata": {},
          "execution_count": 23
        }
      ]
    },
    {
      "cell_type": "markdown",
      "source": [
        "So, best model using H2O is 'gbm' (Gradient Boosting Machine)."
      ],
      "metadata": {
        "id": "ZWOomhCyVDJb"
      }
    },
    {
      "cell_type": "markdown",
      "source": [
        "#Variable importance plot"
      ],
      "metadata": {
        "id": "DqqcUKQMVGxv"
      }
    },
    {
      "cell_type": "markdown",
      "source": [
        "Variable importance plots in tree-based methods present a ranked list of the most influential variables, ordered by their information content. This information is calculated by the tree algorithm. The plot is essentially a bar chart where variables are arranged in descending order of their information content.\n",
        "\n",
        "These plots can display either actual information estimates or standardized values like the one below, where the most crucial variable is assigned a value of 1.0. The scores of other variables indicate their information content relative to the most significant variable.\n",
        "\n",
        "We can notice that some variables may have very low information content. Recognizing this allows for effective feature selection by excluding less important variables. This, in turn, enhances model efficiency and helps mitigate overfitting, as unimportant variables might otherwise introduce noise and affect prediction accuracy."
      ],
      "metadata": {
        "id": "bWm0gFUtXbbf"
      }
    },
    {
      "cell_type": "code",
      "source": [
        "# Checking if the algorithm of the best model is one of the specified tree-based methods.\n",
        "if best_model.algo in ['gbm','drf','xrt','xgboost']:\n",
        "    # Generating a variable importance plot.\n",
        "    best_model.varimp_plot()"
      ],
      "metadata": {
        "colab": {
          "base_uri": "https://localhost:8080/",
          "height": 855
        },
        "id": "oih5tk2AXkfE",
        "outputId": "ef6cfcf5-c8ff-4f41-fa9b-d65e82caa313"
      },
      "execution_count": 24,
      "outputs": [
        {
          "output_type": "display_data",
          "data": {
            "text/plain": [
              "<Figure size 1400x1000 with 1 Axes>"
            ],
            "image/png": "[encoded data removed]"
          },
          "metadata": {}
        },
        {
          "output_type": "display_data",
          "data": {
            "text/plain": [
              "<Figure size 640x480 with 0 Axes>"
            ]
          },
          "metadata": {}
        }
      ]
    },
    {
      "cell_type": "code",
      "source": [
        "# Checking if there is a GLM model in the leaderboard.\n",
        "if glm_index is not 0:\n",
        "    # Printing the index of the GLM model.\n",
        "    print(glm_index)\n",
        "    # Retrieving the GLM model and printing its algorithm.\n",
        "    glm_model=h2o.get_model(aml.leaderboard[glm_index,'model_id'])\n",
        "    print(glm_model.algo)\n",
        "    # Generating a standardized coefficient plot for the GLM model.\n",
        "    glm_model.std_coef_plot()"
      ],
      "metadata": {
        "colab": {
          "base_uri": "https://localhost:8080/",
          "height": 937
        },
        "id": "oY0LpnDZXu2K",
        "outputId": "8d808399-30c6-4ab1-d855-6a64d5ec7972"
      },
      "execution_count": 25,
      "outputs": [
        {
          "output_type": "stream",
          "name": "stderr",
          "text": [
            "<>:2: SyntaxWarning: \"is not\" with a literal. Did you mean \"!=\"?\n",
            "<>:2: SyntaxWarning: \"is not\" with a literal. Did you mean \"!=\"?\n",
            "<ipython-input-25-f7b688e998c3>:2: SyntaxWarning: \"is not\" with a literal. Did you mean \"!=\"?\n",
            "  if glm_index is not 0:\n"
          ]
        },
        {
          "output_type": "stream",
          "name": "stdout",
          "text": [
            "16\n",
            "glm\n"
          ]
        },
        {
          "output_type": "display_data",
          "data": {
            "text/plain": [
              "<Figure size 1400x1000 with 1 Axes>"
            ],
            "image/png": "[encoded data removed]"
          },
          "metadata": {}
        }
      ]
    },
    {
      "cell_type": "code",
      "source": [
        "# Printing the Root Mean Square Error (RMSE) of the best model on the training set.\n",
        "print(best_model.rmse(train = True))"
      ],
      "metadata": {
        "colab": {
          "base_uri": "https://localhost:8080/"
        },
        "id": "-JoiPNi7X4Tt",
        "outputId": "d359f662-8371-4260-9e45-470b298b7679"
      },
      "execution_count": 26,
      "outputs": [
        {
          "output_type": "stream",
          "name": "stdout",
          "text": [
            "0.35010703472022664\n"
          ]
        }
      ]
    },
    {
      "cell_type": "code",
      "source": [
        "# Defining a function to extract various performance statistics from the model's performance object.\n",
        "def model_performance_stats(perf):\n",
        "    d={}\n",
        "    try:\n",
        "      d['mse']=perf.mse()\n",
        "    except:\n",
        "      pass\n",
        "    try:\n",
        "      d['rmse']=perf.rmse()\n",
        "    except:\n",
        "      pass\n",
        "    try:\n",
        "      d['null_degrees_of_freedom']=perf.null_degrees_of_freedom()\n",
        "    except:\n",
        "      pass\n",
        "    try:\n",
        "      d['residual_degrees_of_freedom']=perf.residual_degrees_of_freedom()\n",
        "    except:\n",
        "      pass\n",
        "    try:\n",
        "      d['residual_deviance']=perf.residual_deviance()\n",
        "    except:\n",
        "      pass\n",
        "    try:\n",
        "      d['null_deviance']=perf.null_deviance()\n",
        "    except:\n",
        "      pass\n",
        "    try:\n",
        "      d['aic']=perf.aic()\n",
        "    except:\n",
        "      pass\n",
        "    try:\n",
        "      d['logloss']=perf.logloss()\n",
        "    except:\n",
        "      pass\n",
        "    try:\n",
        "      d['auc']=perf.auc()\n",
        "    except:\n",
        "      pass\n",
        "    try:\n",
        "      d['gini']=perf.gini()\n",
        "    except:\n",
        "      pass\n",
        "    return d"
      ],
      "metadata": {
        "id": "lzH11QgVX8Bt"
      },
      "execution_count": 27,
      "outputs": []
    },
    {
      "cell_type": "code",
      "source": [
        "# Calculating and storing the performance statistics of the best model on the test set.\n",
        "mod_perf=best_model.model_performance(df_test)\n",
        "stats_test={}\n",
        "stats_test=model_performance_stats(mod_perf)\n",
        "stats_test"
      ],
      "metadata": {
        "colab": {
          "base_uri": "https://localhost:8080/"
        },
        "id": "4swFbb_jX94r",
        "outputId": "6e08610b-d466-4f9d-8830-3244039605ad"
      },
      "execution_count": 28,
      "outputs": [
        {
          "output_type": "execute_result",
          "data": {
            "text/plain": [
              "{'mse': 0.13188050908344928,\n",
              " 'rmse': 0.36315356129804,\n",
              " 'null_degrees_of_freedom': None,\n",
              " 'residual_degrees_of_freedom': None,\n",
              " 'residual_deviance': None,\n",
              " 'null_deviance': None}"
            ]
          },
          "metadata": {},
          "execution_count": 28
        }
      ]
    },
    {
      "cell_type": "markdown",
      "source": [
        "These metrics provide an assessment of how well the model performs on the test data. Lower MSE and RMSE values indicate better predictive accuracy."
      ],
      "metadata": {
        "id": "TnQ-HVWDYDTH"
      }
    },
    {
      "cell_type": "code",
      "source": [
        "# Using the best model to make predictions on the test set.\n",
        "predictions = best_model.predict(df_test)"
      ],
      "metadata": {
        "colab": {
          "base_uri": "https://localhost:8080/"
        },
        "id": "H-fjfzQaYA6c",
        "outputId": "17311062-73d4-4bc7-e0b2-3f5dad3c424a"
      },
      "execution_count": 29,
      "outputs": [
        {
          "output_type": "stream",
          "name": "stdout",
          "text": [
            "gbm prediction progress: |███████████████████████████████████████████████████████| (done) 100%\n"
          ]
        }
      ]
    },
    {
      "cell_type": "code",
      "source": [
        "# Converting the predictions to a list for further processing.\n",
        "y_pred=h2o.as_list(predictions)\n",
        "y_pred[0:5]"
      ],
      "metadata": {
        "colab": {
          "base_uri": "https://localhost:8080/",
          "height": 223
        },
        "id": "QxbZ0qNbYOwU",
        "outputId": "d70b91e3-c340-49f7-d16d-e8ad3e0996f9"
      },
      "execution_count": 30,
      "outputs": [
        {
          "output_type": "stream",
          "name": "stdout",
          "text": [
            "Export File progress: |██████████████████████████████████████████████████████████| (done) 100%\n"
          ]
        },
        {
          "output_type": "execute_result",
          "data": {
            "text/plain": [
              "    predict\n",
              "0  0.154637\n",
              "1  0.185267\n",
              "2  0.078980\n",
              "3  0.295077\n",
              "4  0.083084"
            ],
            "text/html": [
              "\n",
              "  <div id=\"df-d1fa6fb2-b845-4c6f-b988-a22c8fc1b6c1\" class=\"colab-df-container\">\n",
              "    <div>\n",
              "<style scoped>\n",
              "    .dataframe tbody tr th:only-of-type {\n",
              "        vertical-align: middle;\n",
              "    }\n",
              "\n",
              "    .dataframe tbody tr th {\n",
              "        vertical-align: top;\n",
              "    }\n",
              "\n",
              "    .dataframe thead th {\n",
              "        text-align: right;\n",
              "    }\n",
              "</style>\n",
              "<table border=\"1\" class=\"dataframe\">\n",
              "  <thead>\n",
              "    <tr style=\"text-align: right;\">\n",
              "      <th></th>\n",
              "      <th>predict</th>\n",
              "    </tr>\n",
              "  </thead>\n",
              "  <tbody>\n",
              "    <tr>\n",
              "      <th>0</th>\n",
              "      <td>0.154637</td>\n",
              "    </tr>\n",
              "    <tr>\n",
              "      <th>1</th>\n",
              "      <td>0.185267</td>\n",
              "    </tr>\n",
              "    <tr>\n",
              "      <th>2</th>\n",
              "      <td>0.078980</td>\n",
              "    </tr>\n",
              "    <tr>\n",
              "      <th>3</th>\n",
              "      <td>0.295077</td>\n",
              "    </tr>\n",
              "    <tr>\n",
              "      <th>4</th>\n",
              "      <td>0.083084</td>\n",
              "    </tr>\n",
              "  </tbody>\n",
              "</table>\n",
              "</div>\n",
              "    <div class=\"colab-df-buttons\">\n",
              "\n",
              "  <div class=\"colab-df-container\">\n",
              "    <button class=\"colab-df-convert\" onclick=\"convertToInteractive('df-d1fa6fb2-b845-4c6f-b988-a22c8fc1b6c1')\"\n",
              "            title=\"Convert this dataframe to an interactive table.\"\n",
              "            style=\"display:none;\">\n",
              "\n",
              "  <svg xmlns=\"http://www.w3.org/2000/svg\" height=\"24px\" viewBox=\"0 -960 960 960\">\n",
              "    <path d=\"M120-120v-720h720v720H120Zm60-500h600v-160H180v160Zm220 220h160v-160H400v160Zm0 220h160v-160H400v160ZM180-400h160v-160H180v160Zm440 0h160v-160H620v160ZM180-180h160v-160H180v160Zm440 0h160v-160H620v160Z\"/>\n",
              "  </svg>\n",
              "    </button>\n",
              "\n",
              "  <style>\n",
              "    .colab-df-container {\n",
              "      display:flex;\n",
              "      gap: 12px;\n",
              "    }\n",
              "\n",
              "    .colab-df-convert {\n",
              "      background-color: #E8F0FE;\n",
              "      border: none;\n",
              "      border-radius: 50%;\n",
              "      cursor: pointer;\n",
              "      display: none;\n",
              "      fill: #1967D2;\n",
              "      height: 32px;\n",
              "      padding: 0 0 0 0;\n",
              "      width: 32px;\n",
              "    }\n",
              "\n",
              "    .colab-df-convert:hover {\n",
              "      background-color: #E2EBFA;\n",
              "      box-shadow: 0px 1px 2px rgba(60, 64, 67, 0.3), 0px 1px 3px 1px rgba(60, 64, 67, 0.15);\n",
              "      fill: #174EA6;\n",
              "    }\n",
              "\n",
              "    .colab-df-buttons div {\n",
              "      margin-bottom: 4px;\n",
              "    }\n",
              "\n",
              "    [theme=dark] .colab-df-convert {\n",
              "      background-color: #3B4455;\n",
              "      fill: #D2E3FC;\n",
              "    }\n",
              "\n",
              "    [theme=dark] .colab-df-convert:hover {\n",
              "      background-color: #434B5C;\n",
              "      box-shadow: 0px 1px 3px 1px rgba(0, 0, 0, 0.15);\n",
              "      filter: drop-shadow(0px 1px 2px rgba(0, 0, 0, 0.3));\n",
              "      fill: #FFFFFF;\n",
              "    }\n",
              "  </style>\n",
              "\n",
              "    <script>\n",
              "      const buttonEl =\n",
              "        document.querySelector('#df-d1fa6fb2-b845-4c6f-b988-a22c8fc1b6c1 button.colab-df-convert');\n",
              "      buttonEl.style.display =\n",
              "        google.colab.kernel.accessAllowed ? 'block' : 'none';\n",
              "\n",
              "      async function convertToInteractive(key) {\n",
              "        const element = document.querySelector('#df-d1fa6fb2-b845-4c6f-b988-a22c8fc1b6c1');\n",
              "        const dataTable =\n",
              "          await google.colab.kernel.invokeFunction('convertToInteractive',\n",
              "                                                    [key], {});\n",
              "        if (!dataTable) return;\n",
              "\n",
              "        const docLinkHtml = 'Like what you see? Visit the ' +\n",
              "          '<a target=\"_blank\" href=https://colab.research.google.com/notebooks/data_table.ipynb>data table notebook</a>'\n",
              "          + ' to learn more about interactive tables.';\n",
              "        element.innerHTML = '';\n",
              "        dataTable['output_type'] = 'display_data';\n",
              "        await google.colab.output.renderOutput(dataTable, element);\n",
              "        const docLink = document.createElement('div');\n",
              "        docLink.innerHTML = docLinkHtml;\n",
              "        element.appendChild(docLink);\n",
              "      }\n",
              "    </script>\n",
              "  </div>\n",
              "\n",
              "\n",
              "<div id=\"df-be9d3166-c0cc-4068-bbd2-21f4b2fc7c9f\">\n",
              "  <button class=\"colab-df-quickchart\" onclick=\"quickchart('df-be9d3166-c0cc-4068-bbd2-21f4b2fc7c9f')\"\n",
              "            title=\"Suggest charts\"\n",
              "            style=\"display:none;\">\n",
              "\n",
              "<svg xmlns=\"http://www.w3.org/2000/svg\" height=\"24px\"viewBox=\"0 0 24 24\"\n",
              "     width=\"24px\">\n",
              "    <g>\n",
              "        <path d=\"M19 3H5c-1.1 0-2 .9-2 2v14c0 1.1.9 2 2 2h14c1.1 0 2-.9 2-2V5c0-1.1-.9-2-2-2zM9 17H7v-7h2v7zm4 0h-2V7h2v10zm4 0h-2v-4h2v4z\"/>\n",
              "    </g>\n",
              "</svg>\n",
              "  </button>\n",
              "\n",
              "<style>\n",
              "  .colab-df-quickchart {\n",
              "      --bg-color: #E8F0FE;\n",
              "      --fill-color: #1967D2;\n",
              "      --hover-bg-color: #E2EBFA;\n",
              "      --hover-fill-color: #174EA6;\n",
              "      --disabled-fill-color: #AAA;\n",
              "      --disabled-bg-color: #DDD;\n",
              "  }\n",
              "\n",
              "  [theme=dark] .colab-df-quickchart {\n",
              "      --bg-color: #3B4455;\n",
              "      --fill-color: #D2E3FC;\n",
              "      --hover-bg-color: #434B5C;\n",
              "      --hover-fill-color: #FFFFFF;\n",
              "      --disabled-bg-color: #3B4455;\n",
              "      --disabled-fill-color: #666;\n",
              "  }\n",
              "\n",
              "  .colab-df-quickchart {\n",
              "    background-color: var(--bg-color);\n",
              "    border: none;\n",
              "    border-radius: 50%;\n",
              "    cursor: pointer;\n",
              "    display: none;\n",
              "    fill: var(--fill-color);\n",
              "    height: 32px;\n",
              "    padding: 0;\n",
              "    width: 32px;\n",
              "  }\n",
              "\n",
              "  .colab-df-quickchart:hover {\n",
              "    background-color: var(--hover-bg-color);\n",
              "    box-shadow: 0 1px 2px rgba(60, 64, 67, 0.3), 0 1px 3px 1px rgba(60, 64, 67, 0.15);\n",
              "    fill: var(--button-hover-fill-color);\n",
              "  }\n",
              "\n",
              "  .colab-df-quickchart-complete:disabled,\n",
              "  .colab-df-quickchart-complete:disabled:hover {\n",
              "    background-color: var(--disabled-bg-color);\n",
              "    fill: var(--disabled-fill-color);\n",
              "    box-shadow: none;\n",
              "  }\n",
              "\n",
              "  .colab-df-spinner {\n",
              "    border: 2px solid var(--fill-color);\n",
              "    border-color: transparent;\n",
              "    border-bottom-color: var(--fill-color);\n",
              "    animation:\n",
              "      spin 1s steps(1) infinite;\n",
              "  }\n",
              "\n",
              "  @keyframes spin {\n",
              "    0% {\n",
              "      border-color: transparent;\n",
              "      border-bottom-color: var(--fill-color);\n",
              "      border-left-color: var(--fill-color);\n",
              "    }\n",
              "    20% {\n",
              "      border-color: transparent;\n",
              "      border-left-color: var(--fill-color);\n",
              "      border-top-color: var(--fill-color);\n",
              "    }\n",
              "    30% {\n",
              "      border-color: transparent;\n",
              "      border-left-color: var(--fill-color);\n",
              "      border-top-color: var(--fill-color);\n",
              "      border-right-color: var(--fill-color);\n",
              "    }\n",
              "    40% {\n",
              "      border-color: transparent;\n",
              "      border-right-color: var(--fill-color);\n",
              "      border-top-color: var(--fill-color);\n",
              "    }\n",
              "    60% {\n",
              "      border-color: transparent;\n",
              "      border-right-color: var(--fill-color);\n",
              "    }\n",
              "    80% {\n",
              "      border-color: transparent;\n",
              "      border-right-color: var(--fill-color);\n",
              "      border-bottom-color: var(--fill-color);\n",
              "    }\n",
              "    90% {\n",
              "      border-color: transparent;\n",
              "      border-bottom-color: var(--fill-color);\n",
              "    }\n",
              "  }\n",
              "</style>\n",
              "\n",
              "  <script>\n",
              "    async function quickchart(key) {\n",
              "      const quickchartButtonEl =\n",
              "        document.querySelector('#' + key + ' button');\n",
              "      quickchartButtonEl.disabled = true;  // To prevent multiple clicks.\n",
              "      quickchartButtonEl.classList.add('colab-df-spinner');\n",
              "      try {\n",
              "        const charts = await google.colab.kernel.invokeFunction(\n",
              "            'suggestCharts', [key], {});\n",
              "      } catch (error) {\n",
              "        console.error('Error during call to suggestCharts:', error);\n",
              "      }\n",
              "      quickchartButtonEl.classList.remove('colab-df-spinner');\n",
              "      quickchartButtonEl.classList.add('colab-df-quickchart-complete');\n",
              "    }\n",
              "    (() => {\n",
              "      let quickchartButtonEl =\n",
              "        document.querySelector('#df-be9d3166-c0cc-4068-bbd2-21f4b2fc7c9f button');\n",
              "      quickchartButtonEl.style.display =\n",
              "        google.colab.kernel.accessAllowed ? 'block' : 'none';\n",
              "    })();\n",
              "  </script>\n",
              "</div>\n",
              "\n",
              "    </div>\n",
              "  </div>\n"
            ],
            "application/vnd.google.colaboratory.intrinsic+json": {
              "type": "dataframe",
              "summary": "{\n  \"name\": \"y_pred[0:5]\",\n  \"rows\": 5,\n  \"fields\": [\n    {\n      \"column\": \"predict\",\n      \"properties\": {\n        \"dtype\": \"number\",\n        \"std\": 0.08858825284667732,\n        \"min\": 0.07897982009825005,\n        \"max\": 0.2950770133954234,\n        \"samples\": [\n          0.18526655160320166,\n          0.08308426999218005,\n          0.07897982009825005\n        ],\n        \"num_unique_values\": 5,\n        \"semantic_type\": \"\",\n        \"description\": \"\"\n      }\n    }\n  ]\n}"
            }
          },
          "metadata": {},
          "execution_count": 30
        }
      ]
    },
    {
      "cell_type": "markdown",
      "source": [
        "These predicted values represent the model's estimated probabilities of default for the corresponding first 5 samples in the test set."
      ],
      "metadata": {
        "id": "PtAzcgrAYSde"
      }
    },
    {
      "cell_type": "code",
      "source": [
        "# Extracting the actual target values from the test set.\n",
        "y_test=h2o.as_list(df_test[y])\n",
        "y_test[0:5]"
      ],
      "metadata": {
        "colab": {
          "base_uri": "https://localhost:8080/",
          "height": 223
        },
        "id": "zVasaaD6YU8i",
        "outputId": "41c19b4e-5098-4dea-fa94-0df3f471cd35"
      },
      "execution_count": 31,
      "outputs": [
        {
          "output_type": "stream",
          "name": "stdout",
          "text": [
            "Export File progress: |██████████████████████████████████████████████████████████| (done) 100%\n"
          ]
        },
        {
          "output_type": "execute_result",
          "data": {
            "text/plain": [
              "   def_pay\n",
              "0        0\n",
              "1        0\n",
              "2        0\n",
              "3        0\n",
              "4        0"
            ],
            "text/html": [
              "\n",
              "  <div id=\"df-1003e706-ae91-4f24-9136-43f4c2aac603\" class=\"colab-df-container\">\n",
              "    <div>\n",
              "<style scoped>\n",
              "    .dataframe tbody tr th:only-of-type {\n",
              "        vertical-align: middle;\n",
              "    }\n",
              "\n",
              "    .dataframe tbody tr th {\n",
              "        vertical-align: top;\n",
              "    }\n",
              "\n",
              "    .dataframe thead th {\n",
              "        text-align: right;\n",
              "    }\n",
              "</style>\n",
              "<table border=\"1\" class=\"dataframe\">\n",
              "  <thead>\n",
              "    <tr style=\"text-align: right;\">\n",
              "      <th></th>\n",
              "      <th>def_pay</th>\n",
              "    </tr>\n",
              "  </thead>\n",
              "  <tbody>\n",
              "    <tr>\n",
              "      <th>0</th>\n",
              "      <td>0</td>\n",
              "    </tr>\n",
              "    <tr>\n",
              "      <th>1</th>\n",
              "      <td>0</td>\n",
              "    </tr>\n",
              "    <tr>\n",
              "      <th>2</th>\n",
              "      <td>0</td>\n",
              "    </tr>\n",
              "    <tr>\n",
              "      <th>3</th>\n",
              "      <td>0</td>\n",
              "    </tr>\n",
              "    <tr>\n",
              "      <th>4</th>\n",
              "      <td>0</td>\n",
              "    </tr>\n",
              "  </tbody>\n",
              "</table>\n",
              "</div>\n",
              "    <div class=\"colab-df-buttons\">\n",
              "\n",
              "  <div class=\"colab-df-container\">\n",
              "    <button class=\"colab-df-convert\" onclick=\"convertToInteractive('df-1003e706-ae91-4f24-9136-43f4c2aac603')\"\n",
              "            title=\"Convert this dataframe to an interactive table.\"\n",
              "            style=\"display:none;\">\n",
              "\n",
              "  <svg xmlns=\"http://www.w3.org/2000/svg\" height=\"24px\" viewBox=\"0 -960 960 960\">\n",
              "    <path d=\"M120-120v-720h720v720H120Zm60-500h600v-160H180v160Zm220 220h160v-160H400v160Zm0 220h160v-160H400v160ZM180-400h160v-160H180v160Zm440 0h160v-160H620v160ZM180-180h160v-160H180v160Zm440 0h160v-160H620v160Z\"/>\n",
              "  </svg>\n",
              "    </button>\n",
              "\n",
              "  <style>\n",
              "    .colab-df-container {\n",
              "      display:flex;\n",
              "      gap: 12px;\n",
              "    }\n",
              "\n",
              "    .colab-df-convert {\n",
              "      background-color: #E8F0FE;\n",
              "      border: none;\n",
              "      border-radius: 50%;\n",
              "      cursor: pointer;\n",
              "      display: none;\n",
              "      fill: #1967D2;\n",
              "      height: 32px;\n",
              "      padding: 0 0 0 0;\n",
              "      width: 32px;\n",
              "    }\n",
              "\n",
              "    .colab-df-convert:hover {\n",
              "      background-color: #E2EBFA;\n",
              "      box-shadow: 0px 1px 2px rgba(60, 64, 67, 0.3), 0px 1px 3px 1px rgba(60, 64, 67, 0.15);\n",
              "      fill: #174EA6;\n",
              "    }\n",
              "\n",
              "    .colab-df-buttons div {\n",
              "      margin-bottom: 4px;\n",
              "    }\n",
              "\n",
              "    [theme=dark] .colab-df-convert {\n",
              "      background-color: #3B4455;\n",
              "      fill: #D2E3FC;\n",
              "    }\n",
              "\n",
              "    [theme=dark] .colab-df-convert:hover {\n",
              "      background-color: #434B5C;\n",
              "      box-shadow: 0px 1px 3px 1px rgba(0, 0, 0, 0.15);\n",
              "      filter: drop-shadow(0px 1px 2px rgba(0, 0, 0, 0.3));\n",
              "      fill: #FFFFFF;\n",
              "    }\n",
              "  </style>\n",
              "\n",
              "    <script>\n",
              "      const buttonEl =\n",
              "        document.querySelector('#df-1003e706-ae91-4f24-9136-43f4c2aac603 button.colab-df-convert');\n",
              "      buttonEl.style.display =\n",
              "        google.colab.kernel.accessAllowed ? 'block' : 'none';\n",
              "\n",
              "      async function convertToInteractive(key) {\n",
              "        const element = document.querySelector('#df-1003e706-ae91-4f24-9136-43f4c2aac603');\n",
              "        const dataTable =\n",
              "          await google.colab.kernel.invokeFunction('convertToInteractive',\n",
              "                                                    [key], {});\n",
              "        if (!dataTable) return;\n",
              "\n",
              "        const docLinkHtml = 'Like what you see? Visit the ' +\n",
              "          '<a target=\"_blank\" href=https://colab.research.google.com/notebooks/data_table.ipynb>data table notebook</a>'\n",
              "          + ' to learn more about interactive tables.';\n",
              "        element.innerHTML = '';\n",
              "        dataTable['output_type'] = 'display_data';\n",
              "        await google.colab.output.renderOutput(dataTable, element);\n",
              "        const docLink = document.createElement('div');\n",
              "        docLink.innerHTML = docLinkHtml;\n",
              "        element.appendChild(docLink);\n",
              "      }\n",
              "    </script>\n",
              "  </div>\n",
              "\n",
              "\n",
              "<div id=\"df-bea64e68-9512-4ba0-8225-f2170e25570d\">\n",
              "  <button class=\"colab-df-quickchart\" onclick=\"quickchart('df-bea64e68-9512-4ba0-8225-f2170e25570d')\"\n",
              "            title=\"Suggest charts\"\n",
              "            style=\"display:none;\">\n",
              "\n",
              "<svg xmlns=\"http://www.w3.org/2000/svg\" height=\"24px\"viewBox=\"0 0 24 24\"\n",
              "     width=\"24px\">\n",
              "    <g>\n",
              "        <path d=\"M19 3H5c-1.1 0-2 .9-2 2v14c0 1.1.9 2 2 2h14c1.1 0 2-.9 2-2V5c0-1.1-.9-2-2-2zM9 17H7v-7h2v7zm4 0h-2V7h2v10zm4 0h-2v-4h2v4z\"/>\n",
              "    </g>\n",
              "</svg>\n",
              "  </button>\n",
              "\n",
              "<style>\n",
              "  .colab-df-quickchart {\n",
              "      --bg-color: #E8F0FE;\n",
              "      --fill-color: #1967D2;\n",
              "      --hover-bg-color: #E2EBFA;\n",
              "      --hover-fill-color: #174EA6;\n",
              "      --disabled-fill-color: #AAA;\n",
              "      --disabled-bg-color: #DDD;\n",
              "  }\n",
              "\n",
              "  [theme=dark] .colab-df-quickchart {\n",
              "      --bg-color: #3B4455;\n",
              "      --fill-color: #D2E3FC;\n",
              "      --hover-bg-color: #434B5C;\n",
              "      --hover-fill-color: #FFFFFF;\n",
              "      --disabled-bg-color: #3B4455;\n",
              "      --disabled-fill-color: #666;\n",
              "  }\n",
              "\n",
              "  .colab-df-quickchart {\n",
              "    background-color: var(--bg-color);\n",
              "    border: none;\n",
              "    border-radius: 50%;\n",
              "    cursor: pointer;\n",
              "    display: none;\n",
              "    fill: var(--fill-color);\n",
              "    height: 32px;\n",
              "    padding: 0;\n",
              "    width: 32px;\n",
              "  }\n",
              "\n",
              "  .colab-df-quickchart:hover {\n",
              "    background-color: var(--hover-bg-color);\n",
              "    box-shadow: 0 1px 2px rgba(60, 64, 67, 0.3), 0 1px 3px 1px rgba(60, 64, 67, 0.15);\n",
              "    fill: var(--button-hover-fill-color);\n",
              "  }\n",
              "\n",
              "  .colab-df-quickchart-complete:disabled,\n",
              "  .colab-df-quickchart-complete:disabled:hover {\n",
              "    background-color: var(--disabled-bg-color);\n",
              "    fill: var(--disabled-fill-color);\n",
              "    box-shadow: none;\n",
              "  }\n",
              "\n",
              "  .colab-df-spinner {\n",
              "    border: 2px solid var(--fill-color);\n",
              "    border-color: transparent;\n",
              "    border-bottom-color: var(--fill-color);\n",
              "    animation:\n",
              "      spin 1s steps(1) infinite;\n",
              "  }\n",
              "\n",
              "  @keyframes spin {\n",
              "    0% {\n",
              "      border-color: transparent;\n",
              "      border-bottom-color: var(--fill-color);\n",
              "      border-left-color: var(--fill-color);\n",
              "    }\n",
              "    20% {\n",
              "      border-color: transparent;\n",
              "      border-left-color: var(--fill-color);\n",
              "      border-top-color: var(--fill-color);\n",
              "    }\n",
              "    30% {\n",
              "      border-color: transparent;\n",
              "      border-left-color: var(--fill-color);\n",
              "      border-top-color: var(--fill-color);\n",
              "      border-right-color: var(--fill-color);\n",
              "    }\n",
              "    40% {\n",
              "      border-color: transparent;\n",
              "      border-right-color: var(--fill-color);\n",
              "      border-top-color: var(--fill-color);\n",
              "    }\n",
              "    60% {\n",
              "      border-color: transparent;\n",
              "      border-right-color: var(--fill-color);\n",
              "    }\n",
              "    80% {\n",
              "      border-color: transparent;\n",
              "      border-right-color: var(--fill-color);\n",
              "      border-bottom-color: var(--fill-color);\n",
              "    }\n",
              "    90% {\n",
              "      border-color: transparent;\n",
              "      border-bottom-color: var(--fill-color);\n",
              "    }\n",
              "  }\n",
              "</style>\n",
              "\n",
              "  <script>\n",
              "    async function quickchart(key) {\n",
              "      const quickchartButtonEl =\n",
              "        document.querySelector('#' + key + ' button');\n",
              "      quickchartButtonEl.disabled = true;  // To prevent multiple clicks.\n",
              "      quickchartButtonEl.classList.add('colab-df-spinner');\n",
              "      try {\n",
              "        const charts = await google.colab.kernel.invokeFunction(\n",
              "            'suggestCharts', [key], {});\n",
              "      } catch (error) {\n",
              "        console.error('Error during call to suggestCharts:', error);\n",
              "      }\n",
              "      quickchartButtonEl.classList.remove('colab-df-spinner');\n",
              "      quickchartButtonEl.classList.add('colab-df-quickchart-complete');\n",
              "    }\n",
              "    (() => {\n",
              "      let quickchartButtonEl =\n",
              "        document.querySelector('#df-bea64e68-9512-4ba0-8225-f2170e25570d button');\n",
              "      quickchartButtonEl.style.display =\n",
              "        google.colab.kernel.accessAllowed ? 'block' : 'none';\n",
              "    })();\n",
              "  </script>\n",
              "</div>\n",
              "\n",
              "    </div>\n",
              "  </div>\n"
            ],
            "application/vnd.google.colaboratory.intrinsic+json": {
              "type": "dataframe",
              "summary": "{\n  \"name\": \"y_test[0:5]\",\n  \"rows\": 5,\n  \"fields\": [\n    {\n      \"column\": \"def_pay\",\n      \"properties\": {\n        \"dtype\": \"number\",\n        \"std\": 0,\n        \"min\": 0,\n        \"max\": 0,\n        \"samples\": [\n          0\n        ],\n        \"num_unique_values\": 1,\n        \"semantic_type\": \"\",\n        \"description\": \"\"\n      }\n    }\n  ]\n}"
            }
          },
          "metadata": {},
          "execution_count": 31
        }
      ]
    },
    {
      "cell_type": "markdown",
      "source": [
        "These actual values serve as a reference to compare with the model's predictions.\n",
        "\n",
        "The Predicted Values are the probabilities that the model has assigned to each sample indicating the likelihood of a default event. For example, Prediction 0 suggests a probability of approximately 0.19 for a default event, while Prediction 3 indicates a higher probability of around 0.47.\n",
        "\n",
        "On the other hand, the \"Actual Target Values\" represent the ground truth or observed outcomes. In this context, they indicate whether or not a default event actually occurred. For instance, Sample 0, Sample 1, and Sample 2 all experienced no default events, as indicated by a value of 0. Sample 3, however, did experience a default event, as indicated by a value of 1.\n",
        "\n",
        "By comparing the predicted values with the actual target values, we can evaluate how well the model is performing. In the case of Sample 4, the model predicted a relatively high probability of default (0.47), which aligns with the actual outcome of a default event (1). This suggests that the model's prediction was accurate for this particular sample.\n",
        "\n",
        "Overall, the model's performance on the test set seems promising, as indicated by the relatively low MSE and RMSE values and this comparison helps us assess the model's predictive accuracy and identify areas where it may need improvement."
      ],
      "metadata": {
        "id": "PC_qUnJZYbtc"
      }
    },
    {
      "cell_type": "markdown",
      "source": [
        "#Partial Dependence Plots"
      ],
      "metadata": {
        "id": "GSEW2BABYiT4"
      }
    },
    {
      "cell_type": "markdown",
      "source": [
        "Partial dependence plots (PDPs) provide a visual representation of the relationship between a target response and a specific set of features while considering the values of all other features. In simpler terms, PDPs allow us to understand how the expected target response changes as a function of a particular feature.\n",
        "\n",
        "These plots illustrate the isolated impact of a single variable on the response, quantifying this impact in terms of the change in the mean response. This helps us answer questions like how altering the values of a specific variable would influence the model's output.\n",
        "\n",
        "PDPs are valuable because they reveal how a single variable affects the response when all other variables are held constant. However, they do not account for interactions between variables. They are particularly useful for assessing whether, for instance, doubling a predictor variable will result in a doubled response or if the predictor variable is already reaching a saturation point."
      ],
      "metadata": {
        "id": "pC-8IbK4YlFV"
      }
    },
    {
      "cell_type": "code",
      "source": [
        "# Printing the features used in the model.\n",
        "print(X)"
      ],
      "metadata": {
        "colab": {
          "base_uri": "https://localhost:8080/"
        },
        "id": "J-DM1qZhYrME",
        "outputId": "7a3df707-384e-4ec3-863e-898cb326d359"
      },
      "execution_count": 32,
      "outputs": [
        {
          "output_type": "stream",
          "name": "stdout",
          "text": [
            "['LIMIT_BAL', 'SEX', 'EDUCATION', 'MARRIAGE', 'AGE', 'PAY_0', 'PAY_2', 'PAY_3', 'PAY_4', 'PAY_5', 'PAY_6', 'BILL_AMT1', 'BILL_AMT2', 'BILL_AMT3', 'BILL_AMT4', 'BILL_AMT5', 'BILL_AMT6', 'PAY_AMT1', 'PAY_AMT2', 'PAY_AMT3', 'PAY_AMT4', 'PAY_AMT5', 'PAY_AMT6']\n"
          ]
        }
      ]
    },
    {
      "cell_type": "code",
      "source": [
        "# Generating a partial dependence plot for the feature 'PAY_6'.\n",
        "best_model.partial_plot(df, cols=['PAY_6'])"
      ],
      "metadata": {
        "colab": {
          "base_uri": "https://localhost:8080/",
          "height": 1000
        },
        "id": "LOurSK02YvXj",
        "outputId": "b30ef30d-0d55-4b79-f12b-8a1c7f1e0484"
      },
      "execution_count": 33,
      "outputs": [
        {
          "output_type": "stream",
          "name": "stdout",
          "text": [
            "PartialDependencePlot progress: |████████████████████████████████████████████████| (done) 100%\n"
          ]
        },
        {
          "output_type": "execute_result",
          "data": {
            "text/plain": [
              "[PartialDependence: Partial Dependence Plot of model GBM_5_AutoML_1_20240219_234911 on column 'PAY_6'.\n",
              "pay_6    mean_response    stddev_response    std_error_mean_response\n",
              "-------  ---------------  -----------------  -------------------------\n",
              "-2       0.21478          0.185949           0.00107358\n",
              "-1       0.216241         0.185406           0.00107044\n",
              "0        0.215332         0.184598           0.00106578\n",
              "1        0.264699         0.184365           0.00106443\n",
              "2        0.264699         0.184365           0.00106443\n",
              "3        0.287737         0.194095           0.00112061\n",
              "4        0.313513         0.184016           0.00106242\n",
              "5        0.313428         0.183834           0.00106136\n",
              "6        0.373119         0.177455           0.00102454\n",
              "7        0.373119         0.177455           0.00102454\n",
              "8        0.373119         0.177455           0.00102454]"
            ]
          },
          "metadata": {},
          "execution_count": 33
        },
        {
          "output_type": "display_data",
          "data": {
            "text/plain": [
              "<Figure size 700x1000 with 1 Axes>"
            ],
            "image/png": "[encoded data removed]"
          },
          "metadata": {}
        }
      ]
    },
    {
      "cell_type": "code",
      "source": [
        "# Generating a partial dependence plot for multiple features: 'PAY_0', 'PAY_2', 'LIMIT_BAL', and 'PAY_3'.\n",
        "best_model.partial_plot(df, cols=['PAY_0', 'PAY_2','LIMIT_BAL', 'PAY_3', 'AGE'])"
      ],
      "metadata": {
        "colab": {
          "base_uri": "https://localhost:8080/",
          "height": 1000
        },
        "id": "rKHtXd8IY1RI",
        "outputId": "97758eed-ff1c-4cf3-975b-d3fa92f492df"
      },
      "execution_count": 34,
      "outputs": [
        {
          "output_type": "stream",
          "name": "stdout",
          "text": [
            "PartialDependencePlot progress: |████████████████████████████████████████████████| (done) 100%\n"
          ]
        },
        {
          "output_type": "execute_result",
          "data": {
            "text/plain": [
              "[PartialDependence: Partial Dependence Plot of model GBM_5_AutoML_1_20240219_234911 on column 'PAY_0'.\n",
              "pay_0    mean_response    stddev_response    std_error_mean_response\n",
              "-------  ---------------  -----------------  -------------------------\n",
              "-2       0.184734         0.139904           0.000807738\n",
              "-1       0.188924         0.135992           0.00078515\n",
              "0        0.188897         0.136151           0.000786066\n",
              "1        0.216299         0.131408           0.000758684\n",
              "2        0.590299         0.143867           0.000830619\n",
              "3        0.590942         0.144209           0.000832591\n",
              "4        0.587809         0.142914           0.000825112\n",
              "5        0.580785         0.143217           0.000826866\n",
              "6        0.578632         0.141904           0.000819281\n",
              "7        0.578632         0.141904           0.000819281\n",
              "8        0.578632         0.141904           0.000819281,\n",
              " PartialDependence: Partial Dependence Plot of model GBM_5_AutoML_1_20240219_234911 on column 'PAY_2'.\n",
              "pay_2    mean_response    stddev_response    std_error_mean_response\n",
              "-------  ---------------  -----------------  -------------------------\n",
              "-2       0.207577         0.187403           0.00108197\n",
              "-1       0.21144          0.186656           0.00107766\n",
              "0        0.210929         0.183317           0.00105838\n",
              "1        0.221462         0.176082           0.00101661\n",
              "2        0.352644         0.151863           0.000876783\n",
              "3        0.404351         0.129511           0.00074773\n",
              "4        0.391847         0.120248           0.00069425\n",
              "5        0.394717         0.122446           0.000706944\n",
              "6        0.394717         0.122446           0.000706944\n",
              "7        0.394717         0.122446           0.000706944\n",
              "8        0.394717         0.122446           0.000706944,\n",
              " PartialDependence: Partial Dependence Plot of model GBM_5_AutoML_1_20240219_234911 on column 'LIMIT_BAL'.\n",
              "limit_bal    mean_response    stddev_response    std_error_mean_response\n",
              "-----------  ---------------  -----------------  -------------------------\n",
              "10000        0.274828         0.174363           0.00100669\n",
              "62105.3      0.251092         0.175201           0.00101152\n",
              "114211       0.220087         0.186534           0.00107695\n",
              "166316       0.205209         0.191579           0.00110608\n",
              "218421       0.204384         0.203255           0.00117349\n",
              "270526       0.196063         0.202122           0.00116695\n",
              "322632       0.191922         0.198025           0.0011433\n",
              "374737       0.191985         0.198549           0.00114632\n",
              "426842       0.188952         0.198081           0.00114362\n",
              "478947       0.191951         0.208896           0.00120606\n",
              "531053       0.191951         0.208896           0.00120606\n",
              "583158       0.199854         0.210633           0.00121609\n",
              "635263       0.199802         0.210515           0.00121541\n",
              "687368       0.20919          0.206311           0.00119114\n",
              "739474       0.20919          0.206311           0.00119114\n",
              "791579       0.20919          0.206311           0.00119114\n",
              "843684       0.20919          0.206311           0.00119114\n",
              "895789       0.20919          0.206311           0.00119114\n",
              "947895       0.20919          0.206311           0.00119114\n",
              "1e+06        0.20919          0.206311           0.00119114,\n",
              " PartialDependence: Partial Dependence Plot of model GBM_5_AutoML_1_20240219_234911 on column 'PAY_3'.\n",
              "pay_3    mean_response    stddev_response    std_error_mean_response\n",
              "-------  ---------------  -----------------  -------------------------\n",
              "-2       0.215841         0.173396           0.0010011\n",
              "-1       0.208713         0.173513           0.00100178\n",
              "0        0.215933         0.191447           0.00110532\n",
              "1        0.253931         0.183511           0.0010595\n",
              "2        0.278714         0.175892           0.00101551\n",
              "3        0.283523         0.167039           0.000964398\n",
              "4        0.282341         0.164294           0.00094855\n",
              "5        0.281277         0.162776           0.000939789\n",
              "6        0.281277         0.162776           0.000939789\n",
              "7        0.281277         0.162776           0.000939789\n",
              "8        0.281277         0.162776           0.000939789,\n",
              " PartialDependence: Partial Dependence Plot of model GBM_5_AutoML_1_20240219_234911 on column 'AGE'.\n",
              "age      mean_response    stddev_response    std_error_mean_response\n",
              "-------  ---------------  -----------------  -------------------------\n",
              "21       0.22881          0.173774           0.00100329\n",
              "24.0526  0.218213         0.193891           0.00111943\n",
              "27.1053  0.217603         0.191409           0.0011051\n",
              "30.1579  0.217941         0.190683           0.00110091\n",
              "33.2105  0.217875         0.190375           0.00109913\n",
              "36.2632  0.222723         0.19255            0.00111169\n",
              "39.3158  0.222611         0.192598           0.00111196\n",
              "42.3684  0.223277         0.193122           0.00111499\n",
              "45.4211  0.226903         0.198122           0.00114386\n",
              "48.4737  0.22869          0.198565           0.00114642\n",
              "51.5263  0.22577          0.191608           0.00110625\n",
              "54.5789  0.233857         0.196265           0.00113313\n",
              "57.6316  0.234976         0.201213           0.0011617\n",
              "60.6842  0.240113         0.197919           0.00114269\n",
              "63.7368  0.245648         0.201095           0.00116102\n",
              "66.7895  0.245604         0.19705            0.00113767\n",
              "69.8421  0.252821         0.196159           0.00113253\n",
              "72.8947  0.272617         0.197857           0.00114233\n",
              "75.9474  0.272617         0.197857           0.00114233\n",
              "79       0.272617         0.197857           0.00114233]"
            ]
          },
          "metadata": {},
          "execution_count": 34
        },
        {
          "output_type": "display_data",
          "data": {
            "text/plain": [
              "<Figure size 700x1000 with 5 Axes>"
            ],
            "image/png": "[encoded data removed]"
          },
          "metadata": {}
        }
      ]
    },
    {
      "cell_type": "markdown",
      "source": [
        "These plots illustrate how the probability of defaulting changes with different values of each of these features, while keeping the other features constant.\n",
        "\n",
        "When looking at the 'PAY_0' feature, we notice that as the value increases (which indicates more months of delayed payments), the probability of defaulting also rises. This suggests that individuals who have a history of delaying payments are more likely to default.\n",
        "\n",
        "Moving on to 'PAY_2', we observe a similar trend. The likelihood of defaulting tends to increase as the number of months with delayed payments goes up. This implies that individuals who consistently delay payments are at a higher risk of default.\n",
        "\n",
        "An interesting finding emerges from the plot for 'LIMIT_BAL'. It shows an inverse relationship, indicating that as the credit limit ('LIMIT_BAL') decreases, the chances of defaulting actually increase. This suggests that individuals with lower credit limits may be at a higher risk of default.\n",
        "\n",
        "Examining 'PAY_3', we find that as the number of months with delayed payments increases, the probability of defaulting also rises. This reinforces the idea that a history of payment delays is a strong indicator of potential default.\n",
        "\n",
        "In summary, these plots offer crucial insights into how specific features influence the likelihood of defaulting. They provide valuable information for understanding the model's predictions and can be instrumental in making well-informed decisions related to assessing credit risk."
      ],
      "metadata": {
        "id": "N2Cowa-sY45X"
      }
    },
    {
      "cell_type": "markdown",
      "source": [
        "#Answers to listed questions"
      ],
      "metadata": {
        "id": "nTDM_ss2Y8x7"
      }
    },
    {
      "cell_type": "markdown",
      "source": [
        "Question 1. Is the relationship significant?\n",
        "\n",
        "Yes, the variable importance plot clearly highlights that PAY_0, PAY_2, and LIMIT_BALANCE hold substantial significance in their relationship with the def_pay column, far surpassing the importance of features like Age and others. This underscores the crucial role that the history of delayed payments and credit limit play in predicting credit card payment default.\n",
        "<br><br>\n",
        "\n",
        "Question 2. Are any model assumptions violated?\n",
        "\n",
        "No, the model assumptions are not violated. The predictions are primarily based on the customer's past repayment history, and the variable importance plot reaffirms the importance of these historical payment patterns in predicting credit card payment defaults.\n",
        "<br><br>\n",
        "\n",
        "Question 3. Is there any multicollinearity in the model?\n",
        "\n",
        "Based on the partial dependence plot, it appears that there is some correlation between PAY_0 and PAY_2 in the model. However, there is no significant multicollinearity observed among the other features.\n",
        "<br><br>\n",
        "\n",
        "Question 4. In the multivariate models are predictor variables independent of all the other predictor variables?\n",
        "\n",
        "Based on the partial dependence plots provided above, it appears that the predictor variables demonstrate a certain degree of independence from each other. However, it's worth noting that there is a slight dependency observed between PAY_0 and PAY_2.\n",
        "<br><br>\n",
        "\n",
        "Question 5. In multivariate models rank the most significant predictor variables and exclude insignificant ones from the model.\n",
        "\n",
        "Based on the variable importance plot, PAY_0 emerges as the most influential predictor variable, followed by PAY_2 and LIMIT_BAL, which also exhibit significant predictive power. On the other hand, predictors like PAY_6, PAY_4, and BILL_AMT2 are deemed less significant and have been excluded from the model. This ranking and exclusion of variables is crucial in optimizing the model for accurate predictions.\n",
        "<br><br>\n",
        "\n",
        "Question 6. Does the model make sense?\n",
        "\n",
        "Yes, based on our analysis, it is evident that the Gradient Boosting Machine (GBM) model emerges as the most accurate predictor for this scenario. This conclusion is further supported by the evaluation metrics, namely Mean Squared Error (MSE) and Root Mean Squared Error (RMSE), which both indicate strong performance.\n",
        "<br><br>\n",
        "\n",
        "Question 7. Does regularization help?\n",
        "\n",
        "After experimenting with different regularization values, we observed that the Mean Squared Error (MSE) and Root Mean Squared Error (RMSE) did not show any significant improvement. In fact, in some cases, the metric value actually declined. Based on this, it appears that the regularization provided by h2o.ai may not offer substantial benefits in this assignment\n",
        "<br><br>\n",
        "\n",
        "Question 8. Which independent variables are significant?\n",
        "\n",
        "According to the variable importance graph, the significant independent variables are PAY_0, PAY_2, LIMIT_BAL, and PAY_3. These features have a notable impact on predicting credit card payment default.\n",
        "<br><br>\n",
        "\n",
        "Question 9. Which hyperparameters are important?\n",
        "\n",
        "Hyperparameters play a critical role in regulating the network structure and influencing the learning process. Specifically, in this the important hyperparameters are 'n_estimators' and 'max_depth'. These parameters govern the values of model parameters, ultimately impacting the performance and behavior of the model.\n",
        "<br><br>\n",
        "\n",
        "Question 10. Coding professionalism?\n",
        "\n",
        "The code in this notebook demonstrates a high level of professionalism. It covers essential tasks from installing the H2O library to generating meaningful plots, without any unnecessary complexity or redundant operations."
      ],
      "metadata": {
        "id": "DHHnFFs9Y9u9"
      }
    },
    {
      "cell_type": "markdown",
      "source": [
        "#Conclusion\n",
        "\n",
        "In conclusion, the implementation of AutoML has proven effective in identifying the best fitting model for predicting credit card payment default. The analysis reveals that features like PAY_0, PAY_2, LIMIT_BAL, and PAY_3 hold significant importance in determining default predictions.\n",
        "\n",
        "The Root Mean Squared Error (RMSE) value, a metric used to evaluate the model's predictive accuracy, is calculated to be 0.366249. This suggests that the model's predictions are fairly accurate.\n",
        "\n",
        "Furthermore, the standout model identified is GBM_5_AutoML_1_20231101_230425. To gain deeper insights into this model's performance, pair plots have been generated.\n",
        "\n",
        "Overall, the findings highlight the importance of specific features in predicting credit card payment defaults, and demonstrate the effectiveness of AutoML in selecting an optimal model for this task. The low RMSE value further reinforces the model's reliability in making accurate predictions."
      ],
      "metadata": {
        "id": "L-8VmRRsXgrn"
      }
    },
    {
      "cell_type": "markdown",
      "source": [
        "#References\n",
        "\n",
        "1. Matplotlib pyplot.subplots Documentation:\n",
        "   - [https://matplotlib.org/stable/api/_as_gen/matplotlib.pyplot.subplots.html]\n",
        "\n",
        "2. H2O.ai Documentation:\n",
        "   - [https://h2o.ai/platform/ai-cloud/make/h2o/]\n",
        "\n",
        "3. NumPy Documentation:\n",
        "   - [https://numpy.org/doc/]\n",
        "\n",
        "4. psutil Documentation:\n",
        "   - [https://psutil.readthedocs.io/en/latest/]\n",
        "\n",
        "5. Requests Documentation:\n",
        "   - [https://docs.python-requests.org/en/latest/]"
      ],
      "metadata": {
        "id": "2bP4TTT6Zth5"
      }
    },
    {
      "cell_type": "markdown",
      "source": [
        "#The MIT License\n",
        "Copyright\n",
        "\n",
        "Permission is hereby granted, free of charge, to any person obtaining a copy of this software and associated documentation files (the \"Software\"), to deal in the Software without restriction, including without limitation the rights to use, copy, modify, merge, publish, distribute, sublicense, and/or sell copies of the Software, and to permit persons to whom the Software is furnished to do so, subject to the following conditions:\n",
        "\n",
        "The above copyright notice and this permission notice shall be included in all copies or substantial portions of the Software.\n",
        "\n",
        "THE SOFTWARE IS PROVIDED \"AS IS\", WITHOUT WARRANTY OF ANY KIND, EXPRESS OR IMPLIED, INCLUDING BUT NOT LIMITED TO THE WARRANTIES OF MERCHANTABILITY, FITNESS FOR A PARTICULAR PURPOSE AND NONINFRINGEMENT. IN NO EVENT SHALL THE AUTHORS OR COPYRIGHT HOLDERS BE LIABLE FOR ANY CLAIM, DAMAGES OR OTHER LIABILITY, WHETHER IN AN ACTION OF CONTRACT, TORT OR OTHERWISE, ARISING FROM, OUT OF OR IN CONNECTION WITH THE SOFTWARE OR THE USE OR OTHER DEALINGS IN THE SOFTWARE."
      ],
      "metadata": {
        "id": "Qh09eozBZySS"
      }
    }
  ]
}